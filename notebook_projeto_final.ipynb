{
 "cells": [
  {
   "cell_type": "markdown",
   "metadata": {},
   "source": [
    "\n",
    "\n",
    "Olá estudante!\n",
    "\n",
    "Me chamo Rafael Meirelles e irei revisar o seu projeto hoje e em eventuais futuras submissões até que ele cumpra todos os requisitos para o aceite.\n",
    "Conte comigo nessa jornada e não se preocupe se precisar ajustar alguns detalhes, é parte do processo e fundamental para que você exercite os conceitos que vem aprendendo e assim melhore a qualidade dos seus códigos e análises.\n",
    "\n",
    "**Peço que mantenha e não altereos comentários que eu fizer por aqui para que possamos nos localizar posteriormente, ok?**\n",
    "\n",
    "Mais uma coisa, vamos utilizar um código de cores para você entender os meus feedbacks no seu notebook. Funciona assim:\n",
    "\n",
    "\n",
    "<div class=\"alert alert-danger\">\n",
    "<strong>Vermelho</strong>\n",
    "\n",
    "Erro que precisa ser consertado, caso contrário, seu projeto não pode ser aceito\n",
    "\n",
    "</div>\n",
    "\n",
    "<div class=\"alert alert-warning\">\n",
    "<strong>Amarelo</strong>\n",
    "\n",
    "Alerta de um erro não crítco, mas que pode ser corrigido para melhoria geral no seu código/análise\n",
    "\n",
    "</div>\n",
    "\n",
    "<div class=\"alert alert-success\">\n",
    "<strong>Verde</strong>\n",
    "\n",
    "Elogios\n",
    "</div>\n",
    "\n",
    "<div class=\"alert alert-info\">\n",
    "<strong>Comentário do estudante</strong>\n",
    "\n",
    "Use uma caixa azul como essa para eventuais comentários que você gostaria de fazer para mim.\n",
    "</div>\n",
    "\n",
    "\n"
   ]
  },
  {
   "cell_type": "code",
   "execution_count": null,
   "metadata": {},
   "outputs": [],
   "source": []
  },
  {
   "cell_type": "markdown",
   "metadata": {},
   "source": []
  },
  {
   "cell_type": "markdown",
   "metadata": {},
   "source": [
    "<div class=\"alert alert-danger\">\n",
    "<strong>Comentário do revisor v1</strong>\n",
    "\n",
    "Estamos no caminho certo com essa versão, mas retocar os pontos indicados abaixo nos fará chegar em um resultado ainda mais incrível.\n",
    "    \n",
    "Conte comigo para ajudá-lo (a) em qualquer questão que possa vir a ter! Lembre-se de usar as caixas azuis para se comunicar comigo.\n",
    "    \n",
    "Até breve.\n",
    "</div>\n",
    "\n"
   ]
  },
  {
   "cell_type": "markdown",
   "metadata": {},
   "source": [
    "\n",
    "<div class=\"alert alert-success\">\n",
    "<strong>Comentário do revisor v2</strong>\n",
    "\n",
    "Trabalho muito sólido com o projeto! Gostei muito.\n",
    "    \n",
    "    \n",
    "Parabéns pela aprovação e até breve!\n",
    "</div>\n"
   ]
  },
  {
   "cell_type": "code",
   "execution_count": 63,
   "metadata": {},
   "outputs": [],
   "source": [
    "#importando bibliotecas\n",
    "\n",
    "import pandas as pd\n",
    "import seaborn as sns\n",
    "import matplotlib.pyplot as plt\n",
    "import numpy as np\n",
    "import scipy.stats as stats\n",
    "from scipy.stats import chi2_contingency\n",
    "from scipy.stats import ttest_ind"
   ]
  },
  {
   "cell_type": "code",
   "execution_count": 64,
   "metadata": {},
   "outputs": [],
   "source": [
    "#lendo e importando arquivo 'games.csv'\n",
    "game_df = pd.read_csv('/datasets/games.csv', sep=',')"
   ]
  },
  {
   "cell_type": "code",
   "execution_count": 65,
   "metadata": {},
   "outputs": [
    {
     "name": "stdout",
     "output_type": "stream",
     "text": [
      "<class 'pandas.core.frame.DataFrame'>\n",
      "RangeIndex: 16715 entries, 0 to 16714\n",
      "Data columns (total 11 columns):\n",
      " #   Column           Non-Null Count  Dtype  \n",
      "---  ------           --------------  -----  \n",
      " 0   Name             16713 non-null  object \n",
      " 1   Platform         16715 non-null  object \n",
      " 2   Year_of_Release  16446 non-null  float64\n",
      " 3   Genre            16713 non-null  object \n",
      " 4   NA_sales         16715 non-null  float64\n",
      " 5   EU_sales         16715 non-null  float64\n",
      " 6   JP_sales         16715 non-null  float64\n",
      " 7   Other_sales      16715 non-null  float64\n",
      " 8   Critic_Score     8137 non-null   float64\n",
      " 9   User_Score       10014 non-null  object \n",
      " 10  Rating           9949 non-null   object \n",
      "dtypes: float64(6), object(5)\n",
      "memory usage: 1.4+ MB\n"
     ]
    }
   ],
   "source": [
    "#observando os dados\n",
    "game_df.info()"
   ]
  },
  {
   "cell_type": "markdown",
   "metadata": {},
   "source": [
    "<div class=\"alert alert-block alert-info\">\n",
    "Existem dados nulos nas colunas name, year_of_release, genre, critic_score, user_score e rating. Mais para frente vou definir o que vou fazer com cada uma dessas colunas.\n",
    "</div>\n"
   ]
  },
  {
   "cell_type": "code",
   "execution_count": 66,
   "metadata": {},
   "outputs": [
    {
     "data": {
      "text/html": [
       "<div>\n",
       "<style scoped>\n",
       "    .dataframe tbody tr th:only-of-type {\n",
       "        vertical-align: middle;\n",
       "    }\n",
       "\n",
       "    .dataframe tbody tr th {\n",
       "        vertical-align: top;\n",
       "    }\n",
       "\n",
       "    .dataframe thead th {\n",
       "        text-align: right;\n",
       "    }\n",
       "</style>\n",
       "<table border=\"1\" class=\"dataframe\">\n",
       "  <thead>\n",
       "    <tr style=\"text-align: right;\">\n",
       "      <th></th>\n",
       "      <th>name</th>\n",
       "      <th>platform</th>\n",
       "      <th>year_of_release</th>\n",
       "      <th>genre</th>\n",
       "      <th>na_sales</th>\n",
       "      <th>eu_sales</th>\n",
       "      <th>jp_sales</th>\n",
       "      <th>other_sales</th>\n",
       "      <th>critic_score</th>\n",
       "      <th>user_score</th>\n",
       "      <th>rating</th>\n",
       "    </tr>\n",
       "  </thead>\n",
       "  <tbody>\n",
       "    <tr>\n",
       "      <th>0</th>\n",
       "      <td>Wii Sports</td>\n",
       "      <td>Wii</td>\n",
       "      <td>2006.0</td>\n",
       "      <td>Sports</td>\n",
       "      <td>41.36</td>\n",
       "      <td>28.96</td>\n",
       "      <td>3.77</td>\n",
       "      <td>8.45</td>\n",
       "      <td>76.0</td>\n",
       "      <td>8</td>\n",
       "      <td>E</td>\n",
       "    </tr>\n",
       "    <tr>\n",
       "      <th>1</th>\n",
       "      <td>Super Mario Bros.</td>\n",
       "      <td>NES</td>\n",
       "      <td>1985.0</td>\n",
       "      <td>Platform</td>\n",
       "      <td>29.08</td>\n",
       "      <td>3.58</td>\n",
       "      <td>6.81</td>\n",
       "      <td>0.77</td>\n",
       "      <td>NaN</td>\n",
       "      <td>NaN</td>\n",
       "      <td>NaN</td>\n",
       "    </tr>\n",
       "    <tr>\n",
       "      <th>2</th>\n",
       "      <td>Mario Kart Wii</td>\n",
       "      <td>Wii</td>\n",
       "      <td>2008.0</td>\n",
       "      <td>Racing</td>\n",
       "      <td>15.68</td>\n",
       "      <td>12.76</td>\n",
       "      <td>3.79</td>\n",
       "      <td>3.29</td>\n",
       "      <td>82.0</td>\n",
       "      <td>8.3</td>\n",
       "      <td>E</td>\n",
       "    </tr>\n",
       "    <tr>\n",
       "      <th>3</th>\n",
       "      <td>Wii Sports Resort</td>\n",
       "      <td>Wii</td>\n",
       "      <td>2009.0</td>\n",
       "      <td>Sports</td>\n",
       "      <td>15.61</td>\n",
       "      <td>10.93</td>\n",
       "      <td>3.28</td>\n",
       "      <td>2.95</td>\n",
       "      <td>80.0</td>\n",
       "      <td>8</td>\n",
       "      <td>E</td>\n",
       "    </tr>\n",
       "    <tr>\n",
       "      <th>4</th>\n",
       "      <td>Pokemon Red/Pokemon Blue</td>\n",
       "      <td>GB</td>\n",
       "      <td>1996.0</td>\n",
       "      <td>Role-Playing</td>\n",
       "      <td>11.27</td>\n",
       "      <td>8.89</td>\n",
       "      <td>10.22</td>\n",
       "      <td>1.00</td>\n",
       "      <td>NaN</td>\n",
       "      <td>NaN</td>\n",
       "      <td>NaN</td>\n",
       "    </tr>\n",
       "    <tr>\n",
       "      <th>...</th>\n",
       "      <td>...</td>\n",
       "      <td>...</td>\n",
       "      <td>...</td>\n",
       "      <td>...</td>\n",
       "      <td>...</td>\n",
       "      <td>...</td>\n",
       "      <td>...</td>\n",
       "      <td>...</td>\n",
       "      <td>...</td>\n",
       "      <td>...</td>\n",
       "      <td>...</td>\n",
       "    </tr>\n",
       "    <tr>\n",
       "      <th>16710</th>\n",
       "      <td>Samurai Warriors: Sanada Maru</td>\n",
       "      <td>PS3</td>\n",
       "      <td>2016.0</td>\n",
       "      <td>Action</td>\n",
       "      <td>0.00</td>\n",
       "      <td>0.00</td>\n",
       "      <td>0.01</td>\n",
       "      <td>0.00</td>\n",
       "      <td>NaN</td>\n",
       "      <td>NaN</td>\n",
       "      <td>NaN</td>\n",
       "    </tr>\n",
       "    <tr>\n",
       "      <th>16711</th>\n",
       "      <td>LMA Manager 2007</td>\n",
       "      <td>X360</td>\n",
       "      <td>2006.0</td>\n",
       "      <td>Sports</td>\n",
       "      <td>0.00</td>\n",
       "      <td>0.01</td>\n",
       "      <td>0.00</td>\n",
       "      <td>0.00</td>\n",
       "      <td>NaN</td>\n",
       "      <td>NaN</td>\n",
       "      <td>NaN</td>\n",
       "    </tr>\n",
       "    <tr>\n",
       "      <th>16712</th>\n",
       "      <td>Haitaka no Psychedelica</td>\n",
       "      <td>PSV</td>\n",
       "      <td>2016.0</td>\n",
       "      <td>Adventure</td>\n",
       "      <td>0.00</td>\n",
       "      <td>0.00</td>\n",
       "      <td>0.01</td>\n",
       "      <td>0.00</td>\n",
       "      <td>NaN</td>\n",
       "      <td>NaN</td>\n",
       "      <td>NaN</td>\n",
       "    </tr>\n",
       "    <tr>\n",
       "      <th>16713</th>\n",
       "      <td>Spirits &amp; Spells</td>\n",
       "      <td>GBA</td>\n",
       "      <td>2003.0</td>\n",
       "      <td>Platform</td>\n",
       "      <td>0.01</td>\n",
       "      <td>0.00</td>\n",
       "      <td>0.00</td>\n",
       "      <td>0.00</td>\n",
       "      <td>NaN</td>\n",
       "      <td>NaN</td>\n",
       "      <td>NaN</td>\n",
       "    </tr>\n",
       "    <tr>\n",
       "      <th>16714</th>\n",
       "      <td>Winning Post 8 2016</td>\n",
       "      <td>PSV</td>\n",
       "      <td>2016.0</td>\n",
       "      <td>Simulation</td>\n",
       "      <td>0.00</td>\n",
       "      <td>0.00</td>\n",
       "      <td>0.01</td>\n",
       "      <td>0.00</td>\n",
       "      <td>NaN</td>\n",
       "      <td>NaN</td>\n",
       "      <td>NaN</td>\n",
       "    </tr>\n",
       "  </tbody>\n",
       "</table>\n",
       "<p>16715 rows × 11 columns</p>\n",
       "</div>"
      ],
      "text/plain": [
       "                                name platform  year_of_release         genre  \\\n",
       "0                         Wii Sports      Wii           2006.0        Sports   \n",
       "1                  Super Mario Bros.      NES           1985.0      Platform   \n",
       "2                     Mario Kart Wii      Wii           2008.0        Racing   \n",
       "3                  Wii Sports Resort      Wii           2009.0        Sports   \n",
       "4           Pokemon Red/Pokemon Blue       GB           1996.0  Role-Playing   \n",
       "...                              ...      ...              ...           ...   \n",
       "16710  Samurai Warriors: Sanada Maru      PS3           2016.0        Action   \n",
       "16711               LMA Manager 2007     X360           2006.0        Sports   \n",
       "16712        Haitaka no Psychedelica      PSV           2016.0     Adventure   \n",
       "16713               Spirits & Spells      GBA           2003.0      Platform   \n",
       "16714            Winning Post 8 2016      PSV           2016.0    Simulation   \n",
       "\n",
       "       na_sales  eu_sales  jp_sales  other_sales  critic_score user_score  \\\n",
       "0         41.36     28.96      3.77         8.45          76.0          8   \n",
       "1         29.08      3.58      6.81         0.77           NaN        NaN   \n",
       "2         15.68     12.76      3.79         3.29          82.0        8.3   \n",
       "3         15.61     10.93      3.28         2.95          80.0          8   \n",
       "4         11.27      8.89     10.22         1.00           NaN        NaN   \n",
       "...         ...       ...       ...          ...           ...        ...   \n",
       "16710      0.00      0.00      0.01         0.00           NaN        NaN   \n",
       "16711      0.00      0.01      0.00         0.00           NaN        NaN   \n",
       "16712      0.00      0.00      0.01         0.00           NaN        NaN   \n",
       "16713      0.01      0.00      0.00         0.00           NaN        NaN   \n",
       "16714      0.00      0.00      0.01         0.00           NaN        NaN   \n",
       "\n",
       "      rating  \n",
       "0          E  \n",
       "1        NaN  \n",
       "2          E  \n",
       "3          E  \n",
       "4        NaN  \n",
       "...      ...  \n",
       "16710    NaN  \n",
       "16711    NaN  \n",
       "16712    NaN  \n",
       "16713    NaN  \n",
       "16714    NaN  \n",
       "\n",
       "[16715 rows x 11 columns]"
      ]
     },
     "execution_count": 66,
     "metadata": {},
     "output_type": "execute_result"
    }
   ],
   "source": [
    "#preparando dados\n",
    "\n",
    "#tratando nomes das colunas\n",
    "#aqui usei o strip() além do lower() para garantir que não haja nenhum espaço no nome das colunas\n",
    "def prep_str(df):\n",
    "    df.columns = [x.strip().lower() for x in df.columns]\n",
    "    return df\n",
    "\n",
    "prep_str(game_df)"
   ]
  },
  {
   "cell_type": "code",
   "execution_count": 67,
   "metadata": {},
   "outputs": [
    {
     "data": {
      "text/html": [
       "<div>\n",
       "<style scoped>\n",
       "    .dataframe tbody tr th:only-of-type {\n",
       "        vertical-align: middle;\n",
       "    }\n",
       "\n",
       "    .dataframe tbody tr th {\n",
       "        vertical-align: top;\n",
       "    }\n",
       "\n",
       "    .dataframe thead th {\n",
       "        text-align: right;\n",
       "    }\n",
       "</style>\n",
       "<table border=\"1\" class=\"dataframe\">\n",
       "  <thead>\n",
       "    <tr style=\"text-align: right;\">\n",
       "      <th></th>\n",
       "      <th>name</th>\n",
       "      <th>platform</th>\n",
       "      <th>year_of_release</th>\n",
       "      <th>genre</th>\n",
       "      <th>na_sales</th>\n",
       "      <th>eu_sales</th>\n",
       "      <th>jp_sales</th>\n",
       "      <th>other_sales</th>\n",
       "      <th>critic_score</th>\n",
       "      <th>user_score</th>\n",
       "      <th>rating</th>\n",
       "    </tr>\n",
       "  </thead>\n",
       "  <tbody>\n",
       "    <tr>\n",
       "      <th>657</th>\n",
       "      <td>Frogger's Adventures: Temple of the Frog</td>\n",
       "      <td>GBA</td>\n",
       "      <td>NaN</td>\n",
       "      <td>Adventure</td>\n",
       "      <td>2.15</td>\n",
       "      <td>0.18</td>\n",
       "      <td>0.00</td>\n",
       "      <td>0.07</td>\n",
       "      <td>73.0</td>\n",
       "      <td>tbd</td>\n",
       "      <td>E</td>\n",
       "    </tr>\n",
       "    <tr>\n",
       "      <th>4373</th>\n",
       "      <td>Silent Hill: Homecoming</td>\n",
       "      <td>X360</td>\n",
       "      <td>NaN</td>\n",
       "      <td>Action</td>\n",
       "      <td>0.25</td>\n",
       "      <td>0.15</td>\n",
       "      <td>0.00</td>\n",
       "      <td>0.04</td>\n",
       "      <td>70.0</td>\n",
       "      <td>6.9</td>\n",
       "      <td>M</td>\n",
       "    </tr>\n",
       "    <tr>\n",
       "      <th>2010</th>\n",
       "      <td>Donkey Kong Land III</td>\n",
       "      <td>GB</td>\n",
       "      <td>NaN</td>\n",
       "      <td>Platform</td>\n",
       "      <td>0.68</td>\n",
       "      <td>0.31</td>\n",
       "      <td>0.00</td>\n",
       "      <td>0.04</td>\n",
       "      <td>NaN</td>\n",
       "      <td>NaN</td>\n",
       "      <td>NaN</td>\n",
       "    </tr>\n",
       "    <tr>\n",
       "      <th>3289</th>\n",
       "      <td>Advance Wars: Days of Ruin</td>\n",
       "      <td>DS</td>\n",
       "      <td>NaN</td>\n",
       "      <td>Strategy</td>\n",
       "      <td>0.43</td>\n",
       "      <td>0.12</td>\n",
       "      <td>0.00</td>\n",
       "      <td>0.05</td>\n",
       "      <td>86.0</td>\n",
       "      <td>8.7</td>\n",
       "      <td>E10+</td>\n",
       "    </tr>\n",
       "    <tr>\n",
       "      <th>2492</th>\n",
       "      <td>MLB SlugFest 20-03</td>\n",
       "      <td>PS2</td>\n",
       "      <td>NaN</td>\n",
       "      <td>Sports</td>\n",
       "      <td>0.41</td>\n",
       "      <td>0.32</td>\n",
       "      <td>0.00</td>\n",
       "      <td>0.11</td>\n",
       "      <td>77.0</td>\n",
       "      <td>8.2</td>\n",
       "      <td>E</td>\n",
       "    </tr>\n",
       "    <tr>\n",
       "      <th>10993</th>\n",
       "      <td>The Daring Game for Girls</td>\n",
       "      <td>Wii</td>\n",
       "      <td>NaN</td>\n",
       "      <td>Adventure</td>\n",
       "      <td>0.09</td>\n",
       "      <td>0.00</td>\n",
       "      <td>0.00</td>\n",
       "      <td>0.01</td>\n",
       "      <td>NaN</td>\n",
       "      <td>tbd</td>\n",
       "      <td>E</td>\n",
       "    </tr>\n",
       "    <tr>\n",
       "      <th>8150</th>\n",
       "      <td>Twisted Metal: Small Brawl</td>\n",
       "      <td>PS</td>\n",
       "      <td>NaN</td>\n",
       "      <td>Action</td>\n",
       "      <td>0.10</td>\n",
       "      <td>0.07</td>\n",
       "      <td>0.00</td>\n",
       "      <td>0.01</td>\n",
       "      <td>51.0</td>\n",
       "      <td>7.6</td>\n",
       "      <td>T</td>\n",
       "    </tr>\n",
       "    <tr>\n",
       "      <th>3233</th>\n",
       "      <td>Test Drive Unlimited 2</td>\n",
       "      <td>PS3</td>\n",
       "      <td>NaN</td>\n",
       "      <td>Racing</td>\n",
       "      <td>0.16</td>\n",
       "      <td>0.34</td>\n",
       "      <td>0.01</td>\n",
       "      <td>0.12</td>\n",
       "      <td>70.0</td>\n",
       "      <td>6.1</td>\n",
       "      <td>T</td>\n",
       "    </tr>\n",
       "    <tr>\n",
       "      <th>6356</th>\n",
       "      <td>Rock Revolution</td>\n",
       "      <td>PS3</td>\n",
       "      <td>NaN</td>\n",
       "      <td>Misc</td>\n",
       "      <td>0.25</td>\n",
       "      <td>0.00</td>\n",
       "      <td>0.00</td>\n",
       "      <td>0.02</td>\n",
       "      <td>42.0</td>\n",
       "      <td>6.6</td>\n",
       "      <td>T</td>\n",
       "    </tr>\n",
       "    <tr>\n",
       "      <th>12011</th>\n",
       "      <td>McFarlane's Evil Prophecy</td>\n",
       "      <td>PS2</td>\n",
       "      <td>NaN</td>\n",
       "      <td>Action</td>\n",
       "      <td>0.03</td>\n",
       "      <td>0.03</td>\n",
       "      <td>0.00</td>\n",
       "      <td>0.01</td>\n",
       "      <td>34.0</td>\n",
       "      <td>3.2</td>\n",
       "      <td>M</td>\n",
       "    </tr>\n",
       "  </tbody>\n",
       "</table>\n",
       "</div>"
      ],
      "text/plain": [
       "                                           name platform  year_of_release  \\\n",
       "657    Frogger's Adventures: Temple of the Frog      GBA              NaN   \n",
       "4373                    Silent Hill: Homecoming     X360              NaN   \n",
       "2010                       Donkey Kong Land III       GB              NaN   \n",
       "3289                 Advance Wars: Days of Ruin       DS              NaN   \n",
       "2492                         MLB SlugFest 20-03      PS2              NaN   \n",
       "10993                 The Daring Game for Girls      Wii              NaN   \n",
       "8150                 Twisted Metal: Small Brawl       PS              NaN   \n",
       "3233                     Test Drive Unlimited 2      PS3              NaN   \n",
       "6356                            Rock Revolution      PS3              NaN   \n",
       "12011                 McFarlane's Evil Prophecy      PS2              NaN   \n",
       "\n",
       "           genre  na_sales  eu_sales  jp_sales  other_sales  critic_score  \\\n",
       "657    Adventure      2.15      0.18      0.00         0.07          73.0   \n",
       "4373      Action      0.25      0.15      0.00         0.04          70.0   \n",
       "2010    Platform      0.68      0.31      0.00         0.04           NaN   \n",
       "3289    Strategy      0.43      0.12      0.00         0.05          86.0   \n",
       "2492      Sports      0.41      0.32      0.00         0.11          77.0   \n",
       "10993  Adventure      0.09      0.00      0.00         0.01           NaN   \n",
       "8150      Action      0.10      0.07      0.00         0.01          51.0   \n",
       "3233      Racing      0.16      0.34      0.01         0.12          70.0   \n",
       "6356        Misc      0.25      0.00      0.00         0.02          42.0   \n",
       "12011     Action      0.03      0.03      0.00         0.01          34.0   \n",
       "\n",
       "      user_score rating  \n",
       "657          tbd      E  \n",
       "4373         6.9      M  \n",
       "2010         NaN    NaN  \n",
       "3289         8.7   E10+  \n",
       "2492         8.2      E  \n",
       "10993        tbd      E  \n",
       "8150         7.6      T  \n",
       "3233         6.1      T  \n",
       "6356         6.6      T  \n",
       "12011        3.2      M  "
      ]
     },
     "execution_count": 67,
     "metadata": {},
     "output_type": "execute_result"
    }
   ],
   "source": [
    "#entendendo os valores nulos da coluna 'year of release'\n",
    "\n",
    "missing_values_df = game_df[game_df['year_of_release'].isna()]\n",
    "\n",
    "missing_values_df.sample(10)"
   ]
  },
  {
   "cell_type": "code",
   "execution_count": 68,
   "metadata": {},
   "outputs": [
    {
     "data": {
      "text/html": [
       "<div>\n",
       "<style scoped>\n",
       "    .dataframe tbody tr th:only-of-type {\n",
       "        vertical-align: middle;\n",
       "    }\n",
       "\n",
       "    .dataframe tbody tr th {\n",
       "        vertical-align: top;\n",
       "    }\n",
       "\n",
       "    .dataframe thead th {\n",
       "        text-align: right;\n",
       "    }\n",
       "</style>\n",
       "<table border=\"1\" class=\"dataframe\">\n",
       "  <thead>\n",
       "    <tr style=\"text-align: right;\">\n",
       "      <th></th>\n",
       "      <th>name</th>\n",
       "      <th>platform</th>\n",
       "      <th>year_of_release</th>\n",
       "      <th>genre</th>\n",
       "      <th>na_sales</th>\n",
       "      <th>eu_sales</th>\n",
       "      <th>jp_sales</th>\n",
       "      <th>other_sales</th>\n",
       "      <th>critic_score</th>\n",
       "      <th>user_score</th>\n",
       "      <th>rating</th>\n",
       "    </tr>\n",
       "  </thead>\n",
       "  <tbody>\n",
       "    <tr>\n",
       "      <th>0</th>\n",
       "      <td>Wii Sports</td>\n",
       "      <td>Wii</td>\n",
       "      <td>2006.0</td>\n",
       "      <td>Sports</td>\n",
       "      <td>41.36</td>\n",
       "      <td>28.96</td>\n",
       "      <td>3.77</td>\n",
       "      <td>8.45</td>\n",
       "      <td>76.0</td>\n",
       "      <td>8</td>\n",
       "      <td>E</td>\n",
       "    </tr>\n",
       "    <tr>\n",
       "      <th>1</th>\n",
       "      <td>Super Mario Bros.</td>\n",
       "      <td>NES</td>\n",
       "      <td>1985.0</td>\n",
       "      <td>Platform</td>\n",
       "      <td>29.08</td>\n",
       "      <td>3.58</td>\n",
       "      <td>6.81</td>\n",
       "      <td>0.77</td>\n",
       "      <td>NaN</td>\n",
       "      <td>NaN</td>\n",
       "      <td>NaN</td>\n",
       "    </tr>\n",
       "    <tr>\n",
       "      <th>2</th>\n",
       "      <td>Mario Kart Wii</td>\n",
       "      <td>Wii</td>\n",
       "      <td>2008.0</td>\n",
       "      <td>Racing</td>\n",
       "      <td>15.68</td>\n",
       "      <td>12.76</td>\n",
       "      <td>3.79</td>\n",
       "      <td>3.29</td>\n",
       "      <td>82.0</td>\n",
       "      <td>8.3</td>\n",
       "      <td>E</td>\n",
       "    </tr>\n",
       "    <tr>\n",
       "      <th>3</th>\n",
       "      <td>Wii Sports Resort</td>\n",
       "      <td>Wii</td>\n",
       "      <td>2009.0</td>\n",
       "      <td>Sports</td>\n",
       "      <td>15.61</td>\n",
       "      <td>10.93</td>\n",
       "      <td>3.28</td>\n",
       "      <td>2.95</td>\n",
       "      <td>80.0</td>\n",
       "      <td>8</td>\n",
       "      <td>E</td>\n",
       "    </tr>\n",
       "    <tr>\n",
       "      <th>4</th>\n",
       "      <td>Pokemon Red/Pokemon Blue</td>\n",
       "      <td>GB</td>\n",
       "      <td>1996.0</td>\n",
       "      <td>Role-Playing</td>\n",
       "      <td>11.27</td>\n",
       "      <td>8.89</td>\n",
       "      <td>10.22</td>\n",
       "      <td>1.00</td>\n",
       "      <td>NaN</td>\n",
       "      <td>NaN</td>\n",
       "      <td>NaN</td>\n",
       "    </tr>\n",
       "    <tr>\n",
       "      <th>...</th>\n",
       "      <td>...</td>\n",
       "      <td>...</td>\n",
       "      <td>...</td>\n",
       "      <td>...</td>\n",
       "      <td>...</td>\n",
       "      <td>...</td>\n",
       "      <td>...</td>\n",
       "      <td>...</td>\n",
       "      <td>...</td>\n",
       "      <td>...</td>\n",
       "      <td>...</td>\n",
       "    </tr>\n",
       "    <tr>\n",
       "      <th>16710</th>\n",
       "      <td>Samurai Warriors: Sanada Maru</td>\n",
       "      <td>PS3</td>\n",
       "      <td>2016.0</td>\n",
       "      <td>Action</td>\n",
       "      <td>0.00</td>\n",
       "      <td>0.00</td>\n",
       "      <td>0.01</td>\n",
       "      <td>0.00</td>\n",
       "      <td>NaN</td>\n",
       "      <td>NaN</td>\n",
       "      <td>NaN</td>\n",
       "    </tr>\n",
       "    <tr>\n",
       "      <th>16711</th>\n",
       "      <td>LMA Manager 2007</td>\n",
       "      <td>X360</td>\n",
       "      <td>2006.0</td>\n",
       "      <td>Sports</td>\n",
       "      <td>0.00</td>\n",
       "      <td>0.01</td>\n",
       "      <td>0.00</td>\n",
       "      <td>0.00</td>\n",
       "      <td>NaN</td>\n",
       "      <td>NaN</td>\n",
       "      <td>NaN</td>\n",
       "    </tr>\n",
       "    <tr>\n",
       "      <th>16712</th>\n",
       "      <td>Haitaka no Psychedelica</td>\n",
       "      <td>PSV</td>\n",
       "      <td>2016.0</td>\n",
       "      <td>Adventure</td>\n",
       "      <td>0.00</td>\n",
       "      <td>0.00</td>\n",
       "      <td>0.01</td>\n",
       "      <td>0.00</td>\n",
       "      <td>NaN</td>\n",
       "      <td>NaN</td>\n",
       "      <td>NaN</td>\n",
       "    </tr>\n",
       "    <tr>\n",
       "      <th>16713</th>\n",
       "      <td>Spirits &amp; Spells</td>\n",
       "      <td>GBA</td>\n",
       "      <td>2003.0</td>\n",
       "      <td>Platform</td>\n",
       "      <td>0.01</td>\n",
       "      <td>0.00</td>\n",
       "      <td>0.00</td>\n",
       "      <td>0.00</td>\n",
       "      <td>NaN</td>\n",
       "      <td>NaN</td>\n",
       "      <td>NaN</td>\n",
       "    </tr>\n",
       "    <tr>\n",
       "      <th>16714</th>\n",
       "      <td>Winning Post 8 2016</td>\n",
       "      <td>PSV</td>\n",
       "      <td>2016.0</td>\n",
       "      <td>Simulation</td>\n",
       "      <td>0.00</td>\n",
       "      <td>0.00</td>\n",
       "      <td>0.01</td>\n",
       "      <td>0.00</td>\n",
       "      <td>NaN</td>\n",
       "      <td>NaN</td>\n",
       "      <td>NaN</td>\n",
       "    </tr>\n",
       "  </tbody>\n",
       "</table>\n",
       "<p>16713 rows × 11 columns</p>\n",
       "</div>"
      ],
      "text/plain": [
       "                                name platform  year_of_release         genre  \\\n",
       "0                         Wii Sports      Wii           2006.0        Sports   \n",
       "1                  Super Mario Bros.      NES           1985.0      Platform   \n",
       "2                     Mario Kart Wii      Wii           2008.0        Racing   \n",
       "3                  Wii Sports Resort      Wii           2009.0        Sports   \n",
       "4           Pokemon Red/Pokemon Blue       GB           1996.0  Role-Playing   \n",
       "...                              ...      ...              ...           ...   \n",
       "16710  Samurai Warriors: Sanada Maru      PS3           2016.0        Action   \n",
       "16711               LMA Manager 2007     X360           2006.0        Sports   \n",
       "16712        Haitaka no Psychedelica      PSV           2016.0     Adventure   \n",
       "16713               Spirits & Spells      GBA           2003.0      Platform   \n",
       "16714            Winning Post 8 2016      PSV           2016.0    Simulation   \n",
       "\n",
       "       na_sales  eu_sales  jp_sales  other_sales  critic_score user_score  \\\n",
       "0         41.36     28.96      3.77         8.45          76.0          8   \n",
       "1         29.08      3.58      6.81         0.77           NaN        NaN   \n",
       "2         15.68     12.76      3.79         3.29          82.0        8.3   \n",
       "3         15.61     10.93      3.28         2.95          80.0          8   \n",
       "4         11.27      8.89     10.22         1.00           NaN        NaN   \n",
       "...         ...       ...       ...          ...           ...        ...   \n",
       "16710      0.00      0.00      0.01         0.00           NaN        NaN   \n",
       "16711      0.00      0.01      0.00         0.00           NaN        NaN   \n",
       "16712      0.00      0.00      0.01         0.00           NaN        NaN   \n",
       "16713      0.01      0.00      0.00         0.00           NaN        NaN   \n",
       "16714      0.00      0.00      0.01         0.00           NaN        NaN   \n",
       "\n",
       "      rating  \n",
       "0          E  \n",
       "1        NaN  \n",
       "2          E  \n",
       "3          E  \n",
       "4        NaN  \n",
       "...      ...  \n",
       "16710    NaN  \n",
       "16711    NaN  \n",
       "16712    NaN  \n",
       "16713    NaN  \n",
       "16714    NaN  \n",
       "\n",
       "[16713 rows x 11 columns]"
      ]
     },
     "execution_count": 68,
     "metadata": {},
     "output_type": "execute_result"
    }
   ],
   "source": [
    "#preenchendo os valores faltantes da coluna 'year_of_release'\n",
    "\n",
    "#primeiro dando dropna nos dois nomes faltantes\n",
    "def drop_nan():\n",
    "    game_df.dropna(subset=['name'], inplace=True)\n",
    "    return game_df\n",
    "drop_nan()"
   ]
  },
  {
   "cell_type": "markdown",
   "metadata": {},
   "source": [
    "<div class=\"alert alert-success\">\n",
    "<strong>Comentário do revisor v1</strong>\n",
    "\n",
    "Estou de acordo com a decisão.\n",
    "</div>\n"
   ]
  },
  {
   "cell_type": "code",
   "execution_count": 69,
   "metadata": {},
   "outputs": [
    {
     "data": {
      "text/html": [
       "<div>\n",
       "<style scoped>\n",
       "    .dataframe tbody tr th:only-of-type {\n",
       "        vertical-align: middle;\n",
       "    }\n",
       "\n",
       "    .dataframe tbody tr th {\n",
       "        vertical-align: top;\n",
       "    }\n",
       "\n",
       "    .dataframe thead th {\n",
       "        text-align: right;\n",
       "    }\n",
       "</style>\n",
       "<table border=\"1\" class=\"dataframe\">\n",
       "  <thead>\n",
       "    <tr style=\"text-align: right;\">\n",
       "      <th></th>\n",
       "      <th>name</th>\n",
       "      <th>platform</th>\n",
       "      <th>year_of_release</th>\n",
       "      <th>genre</th>\n",
       "      <th>na_sales</th>\n",
       "      <th>eu_sales</th>\n",
       "      <th>jp_sales</th>\n",
       "      <th>other_sales</th>\n",
       "      <th>critic_score</th>\n",
       "      <th>user_score</th>\n",
       "      <th>rating</th>\n",
       "    </tr>\n",
       "  </thead>\n",
       "  <tbody>\n",
       "    <tr>\n",
       "      <th>0</th>\n",
       "      <td>Wii Sports</td>\n",
       "      <td>Wii</td>\n",
       "      <td>2006.0</td>\n",
       "      <td>Sports</td>\n",
       "      <td>41.36</td>\n",
       "      <td>28.96</td>\n",
       "      <td>3.77</td>\n",
       "      <td>8.45</td>\n",
       "      <td>76.0</td>\n",
       "      <td>8</td>\n",
       "      <td>E</td>\n",
       "    </tr>\n",
       "    <tr>\n",
       "      <th>1</th>\n",
       "      <td>Super Mario Bros.</td>\n",
       "      <td>NES</td>\n",
       "      <td>1985.0</td>\n",
       "      <td>Platform</td>\n",
       "      <td>29.08</td>\n",
       "      <td>3.58</td>\n",
       "      <td>6.81</td>\n",
       "      <td>0.77</td>\n",
       "      <td>NaN</td>\n",
       "      <td>NaN</td>\n",
       "      <td>NaN</td>\n",
       "    </tr>\n",
       "    <tr>\n",
       "      <th>2</th>\n",
       "      <td>Mario Kart Wii</td>\n",
       "      <td>Wii</td>\n",
       "      <td>2008.0</td>\n",
       "      <td>Racing</td>\n",
       "      <td>15.68</td>\n",
       "      <td>12.76</td>\n",
       "      <td>3.79</td>\n",
       "      <td>3.29</td>\n",
       "      <td>82.0</td>\n",
       "      <td>8.3</td>\n",
       "      <td>E</td>\n",
       "    </tr>\n",
       "    <tr>\n",
       "      <th>3</th>\n",
       "      <td>Wii Sports Resort</td>\n",
       "      <td>Wii</td>\n",
       "      <td>2009.0</td>\n",
       "      <td>Sports</td>\n",
       "      <td>15.61</td>\n",
       "      <td>10.93</td>\n",
       "      <td>3.28</td>\n",
       "      <td>2.95</td>\n",
       "      <td>80.0</td>\n",
       "      <td>8</td>\n",
       "      <td>E</td>\n",
       "    </tr>\n",
       "    <tr>\n",
       "      <th>4</th>\n",
       "      <td>Pokemon Red/Pokemon Blue</td>\n",
       "      <td>GB</td>\n",
       "      <td>1996.0</td>\n",
       "      <td>Role-Playing</td>\n",
       "      <td>11.27</td>\n",
       "      <td>8.89</td>\n",
       "      <td>10.22</td>\n",
       "      <td>1.00</td>\n",
       "      <td>NaN</td>\n",
       "      <td>NaN</td>\n",
       "      <td>NaN</td>\n",
       "    </tr>\n",
       "    <tr>\n",
       "      <th>...</th>\n",
       "      <td>...</td>\n",
       "      <td>...</td>\n",
       "      <td>...</td>\n",
       "      <td>...</td>\n",
       "      <td>...</td>\n",
       "      <td>...</td>\n",
       "      <td>...</td>\n",
       "      <td>...</td>\n",
       "      <td>...</td>\n",
       "      <td>...</td>\n",
       "      <td>...</td>\n",
       "    </tr>\n",
       "    <tr>\n",
       "      <th>16710</th>\n",
       "      <td>Samurai Warriors: Sanada Maru</td>\n",
       "      <td>PS3</td>\n",
       "      <td>2016.0</td>\n",
       "      <td>Action</td>\n",
       "      <td>0.00</td>\n",
       "      <td>0.00</td>\n",
       "      <td>0.01</td>\n",
       "      <td>0.00</td>\n",
       "      <td>NaN</td>\n",
       "      <td>NaN</td>\n",
       "      <td>NaN</td>\n",
       "    </tr>\n",
       "    <tr>\n",
       "      <th>16711</th>\n",
       "      <td>LMA Manager 2007</td>\n",
       "      <td>X360</td>\n",
       "      <td>2006.0</td>\n",
       "      <td>Sports</td>\n",
       "      <td>0.00</td>\n",
       "      <td>0.01</td>\n",
       "      <td>0.00</td>\n",
       "      <td>0.00</td>\n",
       "      <td>NaN</td>\n",
       "      <td>NaN</td>\n",
       "      <td>NaN</td>\n",
       "    </tr>\n",
       "    <tr>\n",
       "      <th>16712</th>\n",
       "      <td>Haitaka no Psychedelica</td>\n",
       "      <td>PSV</td>\n",
       "      <td>2016.0</td>\n",
       "      <td>Adventure</td>\n",
       "      <td>0.00</td>\n",
       "      <td>0.00</td>\n",
       "      <td>0.01</td>\n",
       "      <td>0.00</td>\n",
       "      <td>NaN</td>\n",
       "      <td>NaN</td>\n",
       "      <td>NaN</td>\n",
       "    </tr>\n",
       "    <tr>\n",
       "      <th>16713</th>\n",
       "      <td>Spirits &amp; Spells</td>\n",
       "      <td>GBA</td>\n",
       "      <td>2003.0</td>\n",
       "      <td>Platform</td>\n",
       "      <td>0.01</td>\n",
       "      <td>0.00</td>\n",
       "      <td>0.00</td>\n",
       "      <td>0.00</td>\n",
       "      <td>NaN</td>\n",
       "      <td>NaN</td>\n",
       "      <td>NaN</td>\n",
       "    </tr>\n",
       "    <tr>\n",
       "      <th>16714</th>\n",
       "      <td>Winning Post 8 2016</td>\n",
       "      <td>PSV</td>\n",
       "      <td>2016.0</td>\n",
       "      <td>Simulation</td>\n",
       "      <td>0.00</td>\n",
       "      <td>0.00</td>\n",
       "      <td>0.01</td>\n",
       "      <td>0.00</td>\n",
       "      <td>NaN</td>\n",
       "      <td>NaN</td>\n",
       "      <td>NaN</td>\n",
       "    </tr>\n",
       "  </tbody>\n",
       "</table>\n",
       "<p>16713 rows × 11 columns</p>\n",
       "</div>"
      ],
      "text/plain": [
       "                                name platform  year_of_release         genre  \\\n",
       "0                         Wii Sports      Wii           2006.0        Sports   \n",
       "1                  Super Mario Bros.      NES           1985.0      Platform   \n",
       "2                     Mario Kart Wii      Wii           2008.0        Racing   \n",
       "3                  Wii Sports Resort      Wii           2009.0        Sports   \n",
       "4           Pokemon Red/Pokemon Blue       GB           1996.0  Role-Playing   \n",
       "...                              ...      ...              ...           ...   \n",
       "16710  Samurai Warriors: Sanada Maru      PS3           2016.0        Action   \n",
       "16711               LMA Manager 2007     X360           2006.0        Sports   \n",
       "16712        Haitaka no Psychedelica      PSV           2016.0     Adventure   \n",
       "16713               Spirits & Spells      GBA           2003.0      Platform   \n",
       "16714            Winning Post 8 2016      PSV           2016.0    Simulation   \n",
       "\n",
       "       na_sales  eu_sales  jp_sales  other_sales  critic_score user_score  \\\n",
       "0         41.36     28.96      3.77         8.45          76.0          8   \n",
       "1         29.08      3.58      6.81         0.77           NaN        NaN   \n",
       "2         15.68     12.76      3.79         3.29          82.0        8.3   \n",
       "3         15.61     10.93      3.28         2.95          80.0          8   \n",
       "4         11.27      8.89     10.22         1.00           NaN        NaN   \n",
       "...         ...       ...       ...          ...           ...        ...   \n",
       "16710      0.00      0.00      0.01         0.00           NaN        NaN   \n",
       "16711      0.00      0.01      0.00         0.00           NaN        NaN   \n",
       "16712      0.00      0.00      0.01         0.00           NaN        NaN   \n",
       "16713      0.01      0.00      0.00         0.00           NaN        NaN   \n",
       "16714      0.00      0.00      0.01         0.00           NaN        NaN   \n",
       "\n",
       "      rating  \n",
       "0          E  \n",
       "1        NaN  \n",
       "2          E  \n",
       "3          E  \n",
       "4        NaN  \n",
       "...      ...  \n",
       "16710    NaN  \n",
       "16711    NaN  \n",
       "16712    NaN  \n",
       "16713    NaN  \n",
       "16714    NaN  \n",
       "\n",
       "[16713 rows x 11 columns]"
      ]
     },
     "execution_count": 69,
     "metadata": {},
     "output_type": "execute_result"
    }
   ],
   "source": [
    "#função para preencher a coluna especificada de acordo com: mesmo nome e plataforma, mesmo nome ou mesma plataforma.\n",
    "\n",
    "def filling_3col(df, col, col1, col2, col3):\n",
    "    #preenchendo a coluna year_of_release com o mesmo nome e mesma plataforma.\n",
    "    df[col] = df.groupby([col1, col2])[col3].transform(lambda x: x.fillna(x.min()))\n",
    "    return df\n",
    "\n",
    "def filling_2col(df, col, col1, col2):\n",
    "    #preenchendo a coluna year_of_release com o mesmo nome e mesma plataforma.\n",
    "    df[col] = df.groupby([col1])[col2].transform(lambda x: x.fillna(x.min()))\n",
    "    return df\n",
    "#preenchendo a coluna 'year of release'\n",
    "filling_3col(game_df, 'year_of_release', 'platform', 'name','year_of_release')\n",
    "filling_2col(game_df, 'year_of_release', 'platform','year_of_release')\n",
    "filling_2col(game_df, 'year_of_release', 'name','year_of_release')"
   ]
  },
  {
   "cell_type": "code",
   "execution_count": 70,
   "metadata": {},
   "outputs": [
    {
     "name": "stdout",
     "output_type": "stream",
     "text": [
      "<class 'pandas.core.frame.DataFrame'>\n",
      "Int64Index: 16713 entries, 0 to 16714\n",
      "Data columns (total 11 columns):\n",
      " #   Column           Non-Null Count  Dtype  \n",
      "---  ------           --------------  -----  \n",
      " 0   name             16713 non-null  object \n",
      " 1   platform         16713 non-null  object \n",
      " 2   year_of_release  16713 non-null  float64\n",
      " 3   genre            16713 non-null  object \n",
      " 4   na_sales         16713 non-null  float64\n",
      " 5   eu_sales         16713 non-null  float64\n",
      " 6   jp_sales         16713 non-null  float64\n",
      " 7   other_sales      16713 non-null  float64\n",
      " 8   critic_score     8137 non-null   float64\n",
      " 9   user_score       10014 non-null  object \n",
      " 10  rating           9949 non-null   object \n",
      "dtypes: float64(6), object(5)\n",
      "memory usage: 1.5+ MB\n"
     ]
    }
   ],
   "source": [
    "game_df.info()"
   ]
  },
  {
   "cell_type": "markdown",
   "metadata": {},
   "source": [
    "<div class=\"alert alert-block alert-info\">\n",
    "Para preencher os valores faltantes, usei o mesmo ano de lançamento de outras plataformas. Anteriormente havia preenchido com 0, mas me deu problemas lá na frente para analisar alguns dados. \n",
    "</div>"
   ]
  },
  {
   "cell_type": "markdown",
   "metadata": {},
   "source": [
    "<div class=\"alert alert-success\">\n",
    "<strong>Comentário do revisor v1</strong>\n",
    "\n",
    "Muito elegante a solução proposta, estou de acordo!\n",
    "</div>\n"
   ]
  },
  {
   "cell_type": "code",
   "execution_count": 71,
   "metadata": {},
   "outputs": [
    {
     "data": {
      "text/html": [
       "<div>\n",
       "<style scoped>\n",
       "    .dataframe tbody tr th:only-of-type {\n",
       "        vertical-align: middle;\n",
       "    }\n",
       "\n",
       "    .dataframe tbody tr th {\n",
       "        vertical-align: top;\n",
       "    }\n",
       "\n",
       "    .dataframe thead th {\n",
       "        text-align: right;\n",
       "    }\n",
       "</style>\n",
       "<table border=\"1\" class=\"dataframe\">\n",
       "  <thead>\n",
       "    <tr style=\"text-align: right;\">\n",
       "      <th></th>\n",
       "      <th>name</th>\n",
       "      <th>platform</th>\n",
       "      <th>year_of_release</th>\n",
       "      <th>genre</th>\n",
       "      <th>na_sales</th>\n",
       "      <th>eu_sales</th>\n",
       "      <th>jp_sales</th>\n",
       "      <th>other_sales</th>\n",
       "      <th>critic_score</th>\n",
       "      <th>user_score</th>\n",
       "      <th>rating</th>\n",
       "    </tr>\n",
       "  </thead>\n",
       "  <tbody>\n",
       "    <tr>\n",
       "      <th>0</th>\n",
       "      <td>Wii Sports</td>\n",
       "      <td>Wii</td>\n",
       "      <td>2006</td>\n",
       "      <td>Sports</td>\n",
       "      <td>41.36</td>\n",
       "      <td>28.96</td>\n",
       "      <td>3.77</td>\n",
       "      <td>8.45</td>\n",
       "      <td>76.0</td>\n",
       "      <td>8</td>\n",
       "      <td>E</td>\n",
       "    </tr>\n",
       "    <tr>\n",
       "      <th>1</th>\n",
       "      <td>Super Mario Bros.</td>\n",
       "      <td>NES</td>\n",
       "      <td>1985</td>\n",
       "      <td>Platform</td>\n",
       "      <td>29.08</td>\n",
       "      <td>3.58</td>\n",
       "      <td>6.81</td>\n",
       "      <td>0.77</td>\n",
       "      <td>NaN</td>\n",
       "      <td>NaN</td>\n",
       "      <td>NaN</td>\n",
       "    </tr>\n",
       "    <tr>\n",
       "      <th>2</th>\n",
       "      <td>Mario Kart Wii</td>\n",
       "      <td>Wii</td>\n",
       "      <td>2008</td>\n",
       "      <td>Racing</td>\n",
       "      <td>15.68</td>\n",
       "      <td>12.76</td>\n",
       "      <td>3.79</td>\n",
       "      <td>3.29</td>\n",
       "      <td>82.0</td>\n",
       "      <td>8.3</td>\n",
       "      <td>E</td>\n",
       "    </tr>\n",
       "    <tr>\n",
       "      <th>3</th>\n",
       "      <td>Wii Sports Resort</td>\n",
       "      <td>Wii</td>\n",
       "      <td>2009</td>\n",
       "      <td>Sports</td>\n",
       "      <td>15.61</td>\n",
       "      <td>10.93</td>\n",
       "      <td>3.28</td>\n",
       "      <td>2.95</td>\n",
       "      <td>80.0</td>\n",
       "      <td>8</td>\n",
       "      <td>E</td>\n",
       "    </tr>\n",
       "    <tr>\n",
       "      <th>4</th>\n",
       "      <td>Pokemon Red/Pokemon Blue</td>\n",
       "      <td>GB</td>\n",
       "      <td>1996</td>\n",
       "      <td>Role-Playing</td>\n",
       "      <td>11.27</td>\n",
       "      <td>8.89</td>\n",
       "      <td>10.22</td>\n",
       "      <td>1.00</td>\n",
       "      <td>NaN</td>\n",
       "      <td>NaN</td>\n",
       "      <td>NaN</td>\n",
       "    </tr>\n",
       "    <tr>\n",
       "      <th>...</th>\n",
       "      <td>...</td>\n",
       "      <td>...</td>\n",
       "      <td>...</td>\n",
       "      <td>...</td>\n",
       "      <td>...</td>\n",
       "      <td>...</td>\n",
       "      <td>...</td>\n",
       "      <td>...</td>\n",
       "      <td>...</td>\n",
       "      <td>...</td>\n",
       "      <td>...</td>\n",
       "    </tr>\n",
       "    <tr>\n",
       "      <th>16710</th>\n",
       "      <td>Samurai Warriors: Sanada Maru</td>\n",
       "      <td>PS3</td>\n",
       "      <td>2016</td>\n",
       "      <td>Action</td>\n",
       "      <td>0.00</td>\n",
       "      <td>0.00</td>\n",
       "      <td>0.01</td>\n",
       "      <td>0.00</td>\n",
       "      <td>NaN</td>\n",
       "      <td>NaN</td>\n",
       "      <td>NaN</td>\n",
       "    </tr>\n",
       "    <tr>\n",
       "      <th>16711</th>\n",
       "      <td>LMA Manager 2007</td>\n",
       "      <td>X360</td>\n",
       "      <td>2006</td>\n",
       "      <td>Sports</td>\n",
       "      <td>0.00</td>\n",
       "      <td>0.01</td>\n",
       "      <td>0.00</td>\n",
       "      <td>0.00</td>\n",
       "      <td>NaN</td>\n",
       "      <td>NaN</td>\n",
       "      <td>NaN</td>\n",
       "    </tr>\n",
       "    <tr>\n",
       "      <th>16712</th>\n",
       "      <td>Haitaka no Psychedelica</td>\n",
       "      <td>PSV</td>\n",
       "      <td>2016</td>\n",
       "      <td>Adventure</td>\n",
       "      <td>0.00</td>\n",
       "      <td>0.00</td>\n",
       "      <td>0.01</td>\n",
       "      <td>0.00</td>\n",
       "      <td>NaN</td>\n",
       "      <td>NaN</td>\n",
       "      <td>NaN</td>\n",
       "    </tr>\n",
       "    <tr>\n",
       "      <th>16713</th>\n",
       "      <td>Spirits &amp; Spells</td>\n",
       "      <td>GBA</td>\n",
       "      <td>2003</td>\n",
       "      <td>Platform</td>\n",
       "      <td>0.01</td>\n",
       "      <td>0.00</td>\n",
       "      <td>0.00</td>\n",
       "      <td>0.00</td>\n",
       "      <td>NaN</td>\n",
       "      <td>NaN</td>\n",
       "      <td>NaN</td>\n",
       "    </tr>\n",
       "    <tr>\n",
       "      <th>16714</th>\n",
       "      <td>Winning Post 8 2016</td>\n",
       "      <td>PSV</td>\n",
       "      <td>2016</td>\n",
       "      <td>Simulation</td>\n",
       "      <td>0.00</td>\n",
       "      <td>0.00</td>\n",
       "      <td>0.01</td>\n",
       "      <td>0.00</td>\n",
       "      <td>NaN</td>\n",
       "      <td>NaN</td>\n",
       "      <td>NaN</td>\n",
       "    </tr>\n",
       "  </tbody>\n",
       "</table>\n",
       "<p>16713 rows × 11 columns</p>\n",
       "</div>"
      ],
      "text/plain": [
       "                                name platform  year_of_release         genre  \\\n",
       "0                         Wii Sports      Wii             2006        Sports   \n",
       "1                  Super Mario Bros.      NES             1985      Platform   \n",
       "2                     Mario Kart Wii      Wii             2008        Racing   \n",
       "3                  Wii Sports Resort      Wii             2009        Sports   \n",
       "4           Pokemon Red/Pokemon Blue       GB             1996  Role-Playing   \n",
       "...                              ...      ...              ...           ...   \n",
       "16710  Samurai Warriors: Sanada Maru      PS3             2016        Action   \n",
       "16711               LMA Manager 2007     X360             2006        Sports   \n",
       "16712        Haitaka no Psychedelica      PSV             2016     Adventure   \n",
       "16713               Spirits & Spells      GBA             2003      Platform   \n",
       "16714            Winning Post 8 2016      PSV             2016    Simulation   \n",
       "\n",
       "       na_sales  eu_sales  jp_sales  other_sales  critic_score user_score  \\\n",
       "0         41.36     28.96      3.77         8.45          76.0          8   \n",
       "1         29.08      3.58      6.81         0.77           NaN        NaN   \n",
       "2         15.68     12.76      3.79         3.29          82.0        8.3   \n",
       "3         15.61     10.93      3.28         2.95          80.0          8   \n",
       "4         11.27      8.89     10.22         1.00           NaN        NaN   \n",
       "...         ...       ...       ...          ...           ...        ...   \n",
       "16710      0.00      0.00      0.01         0.00           NaN        NaN   \n",
       "16711      0.00      0.01      0.00         0.00           NaN        NaN   \n",
       "16712      0.00      0.00      0.01         0.00           NaN        NaN   \n",
       "16713      0.01      0.00      0.00         0.00           NaN        NaN   \n",
       "16714      0.00      0.00      0.01         0.00           NaN        NaN   \n",
       "\n",
       "      rating  \n",
       "0          E  \n",
       "1        NaN  \n",
       "2          E  \n",
       "3          E  \n",
       "4        NaN  \n",
       "...      ...  \n",
       "16710    NaN  \n",
       "16711    NaN  \n",
       "16712    NaN  \n",
       "16713    NaN  \n",
       "16714    NaN  \n",
       "\n",
       "[16713 rows x 11 columns]"
      ]
     },
     "execution_count": 71,
     "metadata": {},
     "output_type": "execute_result"
    }
   ],
   "source": [
    "#função para converter os tipos\n",
    "def convert_type(df, col, type_format):\n",
    "    df[col] = df[col].astype(type_format)\n",
    "    return df\n",
    "\n",
    "#convertendo ano de float para int.\n",
    "convert_type(game_df, 'year_of_release', int)"
   ]
  },
  {
   "cell_type": "code",
   "execution_count": 72,
   "metadata": {},
   "outputs": [
    {
     "data": {
      "text/html": [
       "<div>\n",
       "<style scoped>\n",
       "    .dataframe tbody tr th:only-of-type {\n",
       "        vertical-align: middle;\n",
       "    }\n",
       "\n",
       "    .dataframe tbody tr th {\n",
       "        vertical-align: top;\n",
       "    }\n",
       "\n",
       "    .dataframe thead th {\n",
       "        text-align: right;\n",
       "    }\n",
       "</style>\n",
       "<table border=\"1\" class=\"dataframe\">\n",
       "  <thead>\n",
       "    <tr style=\"text-align: right;\">\n",
       "      <th></th>\n",
       "      <th>name</th>\n",
       "      <th>platform</th>\n",
       "      <th>year_of_release</th>\n",
       "      <th>genre</th>\n",
       "      <th>na_sales</th>\n",
       "      <th>eu_sales</th>\n",
       "      <th>jp_sales</th>\n",
       "      <th>other_sales</th>\n",
       "      <th>critic_score</th>\n",
       "      <th>user_score</th>\n",
       "      <th>rating</th>\n",
       "    </tr>\n",
       "  </thead>\n",
       "  <tbody>\n",
       "    <tr>\n",
       "      <th>6516</th>\n",
       "      <td>Summer Sports 2: Island Sports Party</td>\n",
       "      <td>Wii</td>\n",
       "      <td>2008</td>\n",
       "      <td>Sports</td>\n",
       "      <td>0.24</td>\n",
       "      <td>0.00</td>\n",
       "      <td>0.0</td>\n",
       "      <td>0.02</td>\n",
       "      <td>NaN</td>\n",
       "      <td>tbd</td>\n",
       "      <td>E</td>\n",
       "    </tr>\n",
       "    <tr>\n",
       "      <th>10917</th>\n",
       "      <td>Ford Mustang: The Legend Lives</td>\n",
       "      <td>XB</td>\n",
       "      <td>2005</td>\n",
       "      <td>Racing</td>\n",
       "      <td>0.07</td>\n",
       "      <td>0.02</td>\n",
       "      <td>0.0</td>\n",
       "      <td>0.00</td>\n",
       "      <td>55.0</td>\n",
       "      <td>tbd</td>\n",
       "      <td>E</td>\n",
       "    </tr>\n",
       "    <tr>\n",
       "      <th>12710</th>\n",
       "      <td>Aquarium by DS</td>\n",
       "      <td>DS</td>\n",
       "      <td>2008</td>\n",
       "      <td>Simulation</td>\n",
       "      <td>0.05</td>\n",
       "      <td>0.00</td>\n",
       "      <td>0.0</td>\n",
       "      <td>0.00</td>\n",
       "      <td>NaN</td>\n",
       "      <td>tbd</td>\n",
       "      <td>NaN</td>\n",
       "    </tr>\n",
       "    <tr>\n",
       "      <th>10807</th>\n",
       "      <td>Alvin and the Chipmunks: The Squeakquel</td>\n",
       "      <td>Wii</td>\n",
       "      <td>2009</td>\n",
       "      <td>Misc</td>\n",
       "      <td>0.09</td>\n",
       "      <td>0.00</td>\n",
       "      <td>0.0</td>\n",
       "      <td>0.01</td>\n",
       "      <td>NaN</td>\n",
       "      <td>tbd</td>\n",
       "      <td>E</td>\n",
       "    </tr>\n",
       "    <tr>\n",
       "      <th>2823</th>\n",
       "      <td>Imagine: Interior Designer</td>\n",
       "      <td>DS</td>\n",
       "      <td>2008</td>\n",
       "      <td>Simulation</td>\n",
       "      <td>0.34</td>\n",
       "      <td>0.31</td>\n",
       "      <td>0.0</td>\n",
       "      <td>0.08</td>\n",
       "      <td>NaN</td>\n",
       "      <td>tbd</td>\n",
       "      <td>E</td>\n",
       "    </tr>\n",
       "  </tbody>\n",
       "</table>\n",
       "</div>"
      ],
      "text/plain": [
       "                                          name platform  year_of_release  \\\n",
       "6516      Summer Sports 2: Island Sports Party      Wii             2008   \n",
       "10917           Ford Mustang: The Legend Lives       XB             2005   \n",
       "12710                           Aquarium by DS       DS             2008   \n",
       "10807  Alvin and the Chipmunks: The Squeakquel      Wii             2009   \n",
       "2823                Imagine: Interior Designer       DS             2008   \n",
       "\n",
       "            genre  na_sales  eu_sales  jp_sales  other_sales  critic_score  \\\n",
       "6516       Sports      0.24      0.00       0.0         0.02           NaN   \n",
       "10917      Racing      0.07      0.02       0.0         0.00          55.0   \n",
       "12710  Simulation      0.05      0.00       0.0         0.00           NaN   \n",
       "10807        Misc      0.09      0.00       0.0         0.01           NaN   \n",
       "2823   Simulation      0.34      0.31       0.0         0.08           NaN   \n",
       "\n",
       "      user_score rating  \n",
       "6516         tbd      E  \n",
       "10917        tbd      E  \n",
       "12710        tbd    NaN  \n",
       "10807        tbd      E  \n",
       "2823         tbd      E  "
      ]
     },
     "execution_count": 72,
     "metadata": {},
     "output_type": "execute_result"
    }
   ],
   "source": [
    "# Entendendo os valores tbd\n",
    "\n",
    "game_df_tbd = game_df[game_df['user_score'] == 'tbd']\n",
    "\n",
    "game_df_tbd.sample(5)"
   ]
  },
  {
   "cell_type": "markdown",
   "metadata": {},
   "source": [
    "<div class=\"alert alert-block alert-info\">\n",
    "Aqui eu entendi que os valores tbd são valores que ainda seriam definidos, então transformei eles em um NaN para poder convertê-los.\n",
    "</div>"
   ]
  },
  {
   "cell_type": "code",
   "execution_count": 73,
   "metadata": {
    "scrolled": true
   },
   "outputs": [
    {
     "data": {
      "text/html": [
       "<div>\n",
       "<style scoped>\n",
       "    .dataframe tbody tr th:only-of-type {\n",
       "        vertical-align: middle;\n",
       "    }\n",
       "\n",
       "    .dataframe tbody tr th {\n",
       "        vertical-align: top;\n",
       "    }\n",
       "\n",
       "    .dataframe thead th {\n",
       "        text-align: right;\n",
       "    }\n",
       "</style>\n",
       "<table border=\"1\" class=\"dataframe\">\n",
       "  <thead>\n",
       "    <tr style=\"text-align: right;\">\n",
       "      <th></th>\n",
       "      <th>name</th>\n",
       "      <th>platform</th>\n",
       "      <th>year_of_release</th>\n",
       "      <th>genre</th>\n",
       "      <th>na_sales</th>\n",
       "      <th>eu_sales</th>\n",
       "      <th>jp_sales</th>\n",
       "      <th>other_sales</th>\n",
       "      <th>critic_score</th>\n",
       "      <th>user_score</th>\n",
       "      <th>rating</th>\n",
       "    </tr>\n",
       "  </thead>\n",
       "  <tbody>\n",
       "    <tr>\n",
       "      <th>0</th>\n",
       "      <td>Wii Sports</td>\n",
       "      <td>Wii</td>\n",
       "      <td>2006</td>\n",
       "      <td>Sports</td>\n",
       "      <td>41.36</td>\n",
       "      <td>28.96</td>\n",
       "      <td>3.77</td>\n",
       "      <td>8.45</td>\n",
       "      <td>76.0</td>\n",
       "      <td>8.0</td>\n",
       "      <td>E</td>\n",
       "    </tr>\n",
       "    <tr>\n",
       "      <th>1</th>\n",
       "      <td>Super Mario Bros.</td>\n",
       "      <td>NES</td>\n",
       "      <td>1985</td>\n",
       "      <td>Platform</td>\n",
       "      <td>29.08</td>\n",
       "      <td>3.58</td>\n",
       "      <td>6.81</td>\n",
       "      <td>0.77</td>\n",
       "      <td>NaN</td>\n",
       "      <td>NaN</td>\n",
       "      <td>NaN</td>\n",
       "    </tr>\n",
       "    <tr>\n",
       "      <th>2</th>\n",
       "      <td>Mario Kart Wii</td>\n",
       "      <td>Wii</td>\n",
       "      <td>2008</td>\n",
       "      <td>Racing</td>\n",
       "      <td>15.68</td>\n",
       "      <td>12.76</td>\n",
       "      <td>3.79</td>\n",
       "      <td>3.29</td>\n",
       "      <td>82.0</td>\n",
       "      <td>8.3</td>\n",
       "      <td>E</td>\n",
       "    </tr>\n",
       "    <tr>\n",
       "      <th>3</th>\n",
       "      <td>Wii Sports Resort</td>\n",
       "      <td>Wii</td>\n",
       "      <td>2009</td>\n",
       "      <td>Sports</td>\n",
       "      <td>15.61</td>\n",
       "      <td>10.93</td>\n",
       "      <td>3.28</td>\n",
       "      <td>2.95</td>\n",
       "      <td>80.0</td>\n",
       "      <td>8.0</td>\n",
       "      <td>E</td>\n",
       "    </tr>\n",
       "    <tr>\n",
       "      <th>4</th>\n",
       "      <td>Pokemon Red/Pokemon Blue</td>\n",
       "      <td>GB</td>\n",
       "      <td>1996</td>\n",
       "      <td>Role-Playing</td>\n",
       "      <td>11.27</td>\n",
       "      <td>8.89</td>\n",
       "      <td>10.22</td>\n",
       "      <td>1.00</td>\n",
       "      <td>NaN</td>\n",
       "      <td>NaN</td>\n",
       "      <td>NaN</td>\n",
       "    </tr>\n",
       "    <tr>\n",
       "      <th>...</th>\n",
       "      <td>...</td>\n",
       "      <td>...</td>\n",
       "      <td>...</td>\n",
       "      <td>...</td>\n",
       "      <td>...</td>\n",
       "      <td>...</td>\n",
       "      <td>...</td>\n",
       "      <td>...</td>\n",
       "      <td>...</td>\n",
       "      <td>...</td>\n",
       "      <td>...</td>\n",
       "    </tr>\n",
       "    <tr>\n",
       "      <th>16710</th>\n",
       "      <td>Samurai Warriors: Sanada Maru</td>\n",
       "      <td>PS3</td>\n",
       "      <td>2016</td>\n",
       "      <td>Action</td>\n",
       "      <td>0.00</td>\n",
       "      <td>0.00</td>\n",
       "      <td>0.01</td>\n",
       "      <td>0.00</td>\n",
       "      <td>NaN</td>\n",
       "      <td>NaN</td>\n",
       "      <td>NaN</td>\n",
       "    </tr>\n",
       "    <tr>\n",
       "      <th>16711</th>\n",
       "      <td>LMA Manager 2007</td>\n",
       "      <td>X360</td>\n",
       "      <td>2006</td>\n",
       "      <td>Sports</td>\n",
       "      <td>0.00</td>\n",
       "      <td>0.01</td>\n",
       "      <td>0.00</td>\n",
       "      <td>0.00</td>\n",
       "      <td>NaN</td>\n",
       "      <td>NaN</td>\n",
       "      <td>NaN</td>\n",
       "    </tr>\n",
       "    <tr>\n",
       "      <th>16712</th>\n",
       "      <td>Haitaka no Psychedelica</td>\n",
       "      <td>PSV</td>\n",
       "      <td>2016</td>\n",
       "      <td>Adventure</td>\n",
       "      <td>0.00</td>\n",
       "      <td>0.00</td>\n",
       "      <td>0.01</td>\n",
       "      <td>0.00</td>\n",
       "      <td>NaN</td>\n",
       "      <td>NaN</td>\n",
       "      <td>NaN</td>\n",
       "    </tr>\n",
       "    <tr>\n",
       "      <th>16713</th>\n",
       "      <td>Spirits &amp; Spells</td>\n",
       "      <td>GBA</td>\n",
       "      <td>2003</td>\n",
       "      <td>Platform</td>\n",
       "      <td>0.01</td>\n",
       "      <td>0.00</td>\n",
       "      <td>0.00</td>\n",
       "      <td>0.00</td>\n",
       "      <td>NaN</td>\n",
       "      <td>NaN</td>\n",
       "      <td>NaN</td>\n",
       "    </tr>\n",
       "    <tr>\n",
       "      <th>16714</th>\n",
       "      <td>Winning Post 8 2016</td>\n",
       "      <td>PSV</td>\n",
       "      <td>2016</td>\n",
       "      <td>Simulation</td>\n",
       "      <td>0.00</td>\n",
       "      <td>0.00</td>\n",
       "      <td>0.01</td>\n",
       "      <td>0.00</td>\n",
       "      <td>NaN</td>\n",
       "      <td>NaN</td>\n",
       "      <td>NaN</td>\n",
       "    </tr>\n",
       "  </tbody>\n",
       "</table>\n",
       "<p>16713 rows × 11 columns</p>\n",
       "</div>"
      ],
      "text/plain": [
       "                                name platform  year_of_release         genre  \\\n",
       "0                         Wii Sports      Wii             2006        Sports   \n",
       "1                  Super Mario Bros.      NES             1985      Platform   \n",
       "2                     Mario Kart Wii      Wii             2008        Racing   \n",
       "3                  Wii Sports Resort      Wii             2009        Sports   \n",
       "4           Pokemon Red/Pokemon Blue       GB             1996  Role-Playing   \n",
       "...                              ...      ...              ...           ...   \n",
       "16710  Samurai Warriors: Sanada Maru      PS3             2016        Action   \n",
       "16711               LMA Manager 2007     X360             2006        Sports   \n",
       "16712        Haitaka no Psychedelica      PSV             2016     Adventure   \n",
       "16713               Spirits & Spells      GBA             2003      Platform   \n",
       "16714            Winning Post 8 2016      PSV             2016    Simulation   \n",
       "\n",
       "       na_sales  eu_sales  jp_sales  other_sales  critic_score  user_score  \\\n",
       "0         41.36     28.96      3.77         8.45          76.0         8.0   \n",
       "1         29.08      3.58      6.81         0.77           NaN         NaN   \n",
       "2         15.68     12.76      3.79         3.29          82.0         8.3   \n",
       "3         15.61     10.93      3.28         2.95          80.0         8.0   \n",
       "4         11.27      8.89     10.22         1.00           NaN         NaN   \n",
       "...         ...       ...       ...          ...           ...         ...   \n",
       "16710      0.00      0.00      0.01         0.00           NaN         NaN   \n",
       "16711      0.00      0.01      0.00         0.00           NaN         NaN   \n",
       "16712      0.00      0.00      0.01         0.00           NaN         NaN   \n",
       "16713      0.01      0.00      0.00         0.00           NaN         NaN   \n",
       "16714      0.00      0.00      0.01         0.00           NaN         NaN   \n",
       "\n",
       "      rating  \n",
       "0          E  \n",
       "1        NaN  \n",
       "2          E  \n",
       "3          E  \n",
       "4        NaN  \n",
       "...      ...  \n",
       "16710    NaN  \n",
       "16711    NaN  \n",
       "16712    NaN  \n",
       "16713    NaN  \n",
       "16714    NaN  \n",
       "\n",
       "[16713 rows x 11 columns]"
      ]
     },
     "execution_count": 73,
     "metadata": {},
     "output_type": "execute_result"
    }
   ],
   "source": [
    "#função para substituir valores nas rows\n",
    "def replacing_value():\n",
    "    game_df['user_score'] = game_df['user_score'].replace('tbd', np.nan).astype(float)\n",
    "    return game_df\n",
    "\n",
    "replacing_value()"
   ]
  },
  {
   "cell_type": "code",
   "execution_count": 74,
   "metadata": {},
   "outputs": [
    {
     "data": {
      "text/html": [
       "<div>\n",
       "<style scoped>\n",
       "    .dataframe tbody tr th:only-of-type {\n",
       "        vertical-align: middle;\n",
       "    }\n",
       "\n",
       "    .dataframe tbody tr th {\n",
       "        vertical-align: top;\n",
       "    }\n",
       "\n",
       "    .dataframe thead th {\n",
       "        text-align: right;\n",
       "    }\n",
       "</style>\n",
       "<table border=\"1\" class=\"dataframe\">\n",
       "  <thead>\n",
       "    <tr style=\"text-align: right;\">\n",
       "      <th></th>\n",
       "      <th>name</th>\n",
       "      <th>platform</th>\n",
       "      <th>year_of_release</th>\n",
       "      <th>genre</th>\n",
       "      <th>na_sales</th>\n",
       "      <th>eu_sales</th>\n",
       "      <th>jp_sales</th>\n",
       "      <th>other_sales</th>\n",
       "      <th>critic_score</th>\n",
       "      <th>user_score</th>\n",
       "      <th>rating</th>\n",
       "      <th>total_sales</th>\n",
       "    </tr>\n",
       "  </thead>\n",
       "  <tbody>\n",
       "    <tr>\n",
       "      <th>0</th>\n",
       "      <td>Wii Sports</td>\n",
       "      <td>Wii</td>\n",
       "      <td>2006</td>\n",
       "      <td>Sports</td>\n",
       "      <td>41.36</td>\n",
       "      <td>28.96</td>\n",
       "      <td>3.77</td>\n",
       "      <td>8.45</td>\n",
       "      <td>76.0</td>\n",
       "      <td>8.0</td>\n",
       "      <td>E</td>\n",
       "      <td>82.54</td>\n",
       "    </tr>\n",
       "    <tr>\n",
       "      <th>1</th>\n",
       "      <td>Super Mario Bros.</td>\n",
       "      <td>NES</td>\n",
       "      <td>1985</td>\n",
       "      <td>Platform</td>\n",
       "      <td>29.08</td>\n",
       "      <td>3.58</td>\n",
       "      <td>6.81</td>\n",
       "      <td>0.77</td>\n",
       "      <td>NaN</td>\n",
       "      <td>NaN</td>\n",
       "      <td>NaN</td>\n",
       "      <td>40.24</td>\n",
       "    </tr>\n",
       "    <tr>\n",
       "      <th>2</th>\n",
       "      <td>Mario Kart Wii</td>\n",
       "      <td>Wii</td>\n",
       "      <td>2008</td>\n",
       "      <td>Racing</td>\n",
       "      <td>15.68</td>\n",
       "      <td>12.76</td>\n",
       "      <td>3.79</td>\n",
       "      <td>3.29</td>\n",
       "      <td>82.0</td>\n",
       "      <td>8.3</td>\n",
       "      <td>E</td>\n",
       "      <td>35.52</td>\n",
       "    </tr>\n",
       "    <tr>\n",
       "      <th>3</th>\n",
       "      <td>Wii Sports Resort</td>\n",
       "      <td>Wii</td>\n",
       "      <td>2009</td>\n",
       "      <td>Sports</td>\n",
       "      <td>15.61</td>\n",
       "      <td>10.93</td>\n",
       "      <td>3.28</td>\n",
       "      <td>2.95</td>\n",
       "      <td>80.0</td>\n",
       "      <td>8.0</td>\n",
       "      <td>E</td>\n",
       "      <td>32.77</td>\n",
       "    </tr>\n",
       "    <tr>\n",
       "      <th>4</th>\n",
       "      <td>Pokemon Red/Pokemon Blue</td>\n",
       "      <td>GB</td>\n",
       "      <td>1996</td>\n",
       "      <td>Role-Playing</td>\n",
       "      <td>11.27</td>\n",
       "      <td>8.89</td>\n",
       "      <td>10.22</td>\n",
       "      <td>1.00</td>\n",
       "      <td>NaN</td>\n",
       "      <td>NaN</td>\n",
       "      <td>NaN</td>\n",
       "      <td>31.38</td>\n",
       "    </tr>\n",
       "    <tr>\n",
       "      <th>...</th>\n",
       "      <td>...</td>\n",
       "      <td>...</td>\n",
       "      <td>...</td>\n",
       "      <td>...</td>\n",
       "      <td>...</td>\n",
       "      <td>...</td>\n",
       "      <td>...</td>\n",
       "      <td>...</td>\n",
       "      <td>...</td>\n",
       "      <td>...</td>\n",
       "      <td>...</td>\n",
       "      <td>...</td>\n",
       "    </tr>\n",
       "    <tr>\n",
       "      <th>16710</th>\n",
       "      <td>Samurai Warriors: Sanada Maru</td>\n",
       "      <td>PS3</td>\n",
       "      <td>2016</td>\n",
       "      <td>Action</td>\n",
       "      <td>0.00</td>\n",
       "      <td>0.00</td>\n",
       "      <td>0.01</td>\n",
       "      <td>0.00</td>\n",
       "      <td>NaN</td>\n",
       "      <td>NaN</td>\n",
       "      <td>NaN</td>\n",
       "      <td>0.01</td>\n",
       "    </tr>\n",
       "    <tr>\n",
       "      <th>16711</th>\n",
       "      <td>LMA Manager 2007</td>\n",
       "      <td>X360</td>\n",
       "      <td>2006</td>\n",
       "      <td>Sports</td>\n",
       "      <td>0.00</td>\n",
       "      <td>0.01</td>\n",
       "      <td>0.00</td>\n",
       "      <td>0.00</td>\n",
       "      <td>NaN</td>\n",
       "      <td>NaN</td>\n",
       "      <td>NaN</td>\n",
       "      <td>0.01</td>\n",
       "    </tr>\n",
       "    <tr>\n",
       "      <th>16712</th>\n",
       "      <td>Haitaka no Psychedelica</td>\n",
       "      <td>PSV</td>\n",
       "      <td>2016</td>\n",
       "      <td>Adventure</td>\n",
       "      <td>0.00</td>\n",
       "      <td>0.00</td>\n",
       "      <td>0.01</td>\n",
       "      <td>0.00</td>\n",
       "      <td>NaN</td>\n",
       "      <td>NaN</td>\n",
       "      <td>NaN</td>\n",
       "      <td>0.01</td>\n",
       "    </tr>\n",
       "    <tr>\n",
       "      <th>16713</th>\n",
       "      <td>Spirits &amp; Spells</td>\n",
       "      <td>GBA</td>\n",
       "      <td>2003</td>\n",
       "      <td>Platform</td>\n",
       "      <td>0.01</td>\n",
       "      <td>0.00</td>\n",
       "      <td>0.00</td>\n",
       "      <td>0.00</td>\n",
       "      <td>NaN</td>\n",
       "      <td>NaN</td>\n",
       "      <td>NaN</td>\n",
       "      <td>0.01</td>\n",
       "    </tr>\n",
       "    <tr>\n",
       "      <th>16714</th>\n",
       "      <td>Winning Post 8 2016</td>\n",
       "      <td>PSV</td>\n",
       "      <td>2016</td>\n",
       "      <td>Simulation</td>\n",
       "      <td>0.00</td>\n",
       "      <td>0.00</td>\n",
       "      <td>0.01</td>\n",
       "      <td>0.00</td>\n",
       "      <td>NaN</td>\n",
       "      <td>NaN</td>\n",
       "      <td>NaN</td>\n",
       "      <td>0.01</td>\n",
       "    </tr>\n",
       "  </tbody>\n",
       "</table>\n",
       "<p>16713 rows × 12 columns</p>\n",
       "</div>"
      ],
      "text/plain": [
       "                                name platform  year_of_release         genre  \\\n",
       "0                         Wii Sports      Wii             2006        Sports   \n",
       "1                  Super Mario Bros.      NES             1985      Platform   \n",
       "2                     Mario Kart Wii      Wii             2008        Racing   \n",
       "3                  Wii Sports Resort      Wii             2009        Sports   \n",
       "4           Pokemon Red/Pokemon Blue       GB             1996  Role-Playing   \n",
       "...                              ...      ...              ...           ...   \n",
       "16710  Samurai Warriors: Sanada Maru      PS3             2016        Action   \n",
       "16711               LMA Manager 2007     X360             2006        Sports   \n",
       "16712        Haitaka no Psychedelica      PSV             2016     Adventure   \n",
       "16713               Spirits & Spells      GBA             2003      Platform   \n",
       "16714            Winning Post 8 2016      PSV             2016    Simulation   \n",
       "\n",
       "       na_sales  eu_sales  jp_sales  other_sales  critic_score  user_score  \\\n",
       "0         41.36     28.96      3.77         8.45          76.0         8.0   \n",
       "1         29.08      3.58      6.81         0.77           NaN         NaN   \n",
       "2         15.68     12.76      3.79         3.29          82.0         8.3   \n",
       "3         15.61     10.93      3.28         2.95          80.0         8.0   \n",
       "4         11.27      8.89     10.22         1.00           NaN         NaN   \n",
       "...         ...       ...       ...          ...           ...         ...   \n",
       "16710      0.00      0.00      0.01         0.00           NaN         NaN   \n",
       "16711      0.00      0.01      0.00         0.00           NaN         NaN   \n",
       "16712      0.00      0.00      0.01         0.00           NaN         NaN   \n",
       "16713      0.01      0.00      0.00         0.00           NaN         NaN   \n",
       "16714      0.00      0.00      0.01         0.00           NaN         NaN   \n",
       "\n",
       "      rating  total_sales  \n",
       "0          E        82.54  \n",
       "1        NaN        40.24  \n",
       "2          E        35.52  \n",
       "3          E        32.77  \n",
       "4        NaN        31.38  \n",
       "...      ...          ...  \n",
       "16710    NaN         0.01  \n",
       "16711    NaN         0.01  \n",
       "16712    NaN         0.01  \n",
       "16713    NaN         0.01  \n",
       "16714    NaN         0.01  \n",
       "\n",
       "[16713 rows x 12 columns]"
      ]
     },
     "execution_count": 74,
     "metadata": {},
     "output_type": "execute_result"
    }
   ],
   "source": [
    "#criando a coluna 'total_sales' com a soma da venda de todas as regiões \n",
    "game_df['total_sales'] = game_df['na_sales'] + game_df['eu_sales'] + game_df['jp_sales'] + game_df['other_sales']\n",
    "\n",
    "game_df"
   ]
  },
  {
   "cell_type": "markdown",
   "metadata": {},
   "source": [
    "<div class=\"alert alert-success\">\n",
    "<strong>Comentário do revisor v1</strong>\n",
    "\n",
    "Soma das regiões realizada!\n",
    "</div>\n"
   ]
  },
  {
   "cell_type": "code",
   "execution_count": 75,
   "metadata": {},
   "outputs": [
    {
     "data": {
      "image/png": "[encoded data removed]",
      "text/plain": [
       "<Figure size 1000x600 with 1 Axes>"
      ]
     },
     "metadata": {},
     "output_type": "display_data"
    }
   ],
   "source": [
    "#analisando os dados\n",
    "# quantos jogos foram lançados em anos diferentes \n",
    "def count_values():\n",
    "    total_release_year = game_df['year_of_release'].value_counts().reset_index()\n",
    "    total_release_year.columns = ['release_year', 'count']\n",
    "    total_release_year = total_release_year.sort_values(by='release_year', ascending=False)\n",
    "    return total_release_year\n",
    "\n",
    "#plotando gráfico de barras\n",
    "release_year_data = count_values()\n",
    "plt.figure(figsize=(10, 6))\n",
    "sns.barplot(data=release_year_data, x='release_year', y='count', palette='flare')\n",
    "plt.title('Número de jogos lançados por ano')\n",
    "plt.xlabel('Ano de lançamento')\n",
    "plt.ylabel('Contagem')\n",
    "plt.xticks(rotation=45)\n",
    "plt.show()\n"
   ]
  },
  {
   "cell_type": "markdown",
   "metadata": {},
   "source": [
    "<div class=\"alert alert-block alert-info\">\n",
    "É possível observar que o período de mais lançamentos foi do ano de 2006 a 2011, superando a marca de mais de mil lançamentos. \n",
    "</div>"
   ]
  },
  {
   "cell_type": "markdown",
   "metadata": {},
   "source": [
    "<div class=\"alert alert-danger\">\n",
    "<strong>Comentário do revisor v1</strong>\n",
    "\n",
    "Contagem correta por aqui, ams um plot viria bem a calhar acompanhando a conclusão proposta.\n",
    "</div>\n"
   ]
  },
  {
   "cell_type": "markdown",
   "metadata": {},
   "source": [
    "<div class=\"alert alert-success\">\n",
    "<strong>Comentário do revisor v2</strong>\n",
    "\n",
    "Valeu pelo ajuste!\n",
    "</div>\n"
   ]
  },
  {
   "cell_type": "code",
   "execution_count": 97,
   "metadata": {
    "scrolled": true
   },
   "outputs": [
    {
     "data": {
      "image/png": "[encoded data removed]",
      "text/plain": [
       "<Figure size 1400x800 with 1 Axes>"
      ]
     },
     "metadata": {},
     "output_type": "display_data"
    },
    {
     "name": "stdout",
     "output_type": "stream",
     "text": [
      "Plataformas com vendas recentes:\n",
      "['PS4' '3DS' 'XOne' 'WiiU' 'PS3' 'PC' 'X360' 'PSV' 'Wii']\n",
      "\n",
      "Plataformas que eram populares, mas não têm vendas recentes:\n",
      "16    PS2\n",
      "4      DS\n",
      "15     PS\n",
      "6     GBA\n",
      "19    PSP\n",
      "29     XB\n",
      "5      GB\n",
      "11    NES\n",
      "10    N64\n",
      "Name: platform, dtype: object\n"
     ]
    }
   ],
   "source": [
    "#maiores vendas por plataforma\n",
    "\n",
    "def analyze_platform_sales():\n",
    "    # agrupando as vendas totais por plataforma e ano\n",
    "    platform_sales = game_df.groupby(['platform', 'year_of_release'])['total_sales'].sum().reset_index()\n",
    "\n",
    "    # 20 plataformas com maiores vendas totais\n",
    "    total_sales_by_platform = game_df.groupby('platform')['total_sales'].sum().reset_index()\n",
    "    top_platforms = total_sales_by_platform.sort_values(by='total_sales', ascending=False)['platform'].head(15)\n",
    "\n",
    "    # distribuição de vendas para cada ano das plataformas selecionadas\n",
    "    sales_distribution = platform_sales[platform_sales['platform'].isin(top_platforms)]\n",
    "\n",
    "    #definindo ano mais recente\n",
    "    recent_year = game_df['year_of_release'].max()\n",
    "    \n",
    "    #filtrando as plataformas que venderam recentemente\n",
    "    platforms_with_recent_sales = game_df[game_df['year_of_release'] == recent_year]['platform'].unique()\n",
    "    \n",
    "    #filtrando as plataformas que não tiverem vendas recentes\n",
    "    platforms_with_no_recent_sales = top_platforms[~top_platforms.isin(platforms_with_recent_sales)]\n",
    "\n",
    "    return sales_distribution, platforms_with_recent_sales, platforms_with_no_recent_sales\n",
    "\n",
    "# Obter a distribuição de vendas e as plataformas\n",
    "sales_distribution, platforms_with_recent_sales, platforms_with_no_recent_sales = analyze_platform_sales()\n",
    "\n",
    "#plotando\n",
    "plt.figure(figsize=(14, 8))\n",
    "sns.lineplot(data=sales_distribution, x='year_of_release', y='total_sales', hue='platform', marker='*')\n",
    "sns.color_palette(\"husl\", 15)\n",
    "\n",
    "\n",
    "plt.title('Distribuição de vendas ao longo dos anos')\n",
    "plt.xlabel('Ano de lançamento')\n",
    "plt.ylabel('Vendas totais')\n",
    "plt.legend(title='Plataforma', loc='upper left')\n",
    "plt.xticks(rotation=45)\n",
    "plt.show()\n",
    "\n",
    "print(\"Plataformas com vendas recentes:\")\n",
    "print(platforms_with_recent_sales)\n",
    "\n",
    "print(\"\\nPlataformas que eram populares, mas não têm vendas recentes:\")\n",
    "print(platforms_with_no_recent_sales)\n"
   ]
  },
  {
   "cell_type": "markdown",
   "metadata": {},
   "source": [
    "<div class=\"alert alert-block alert-info\">\n",
    "Olhando para o gráfico, é possível ver que entre os jogos de console existe um variância grande nas vendas, enquanto o PC é bastante constante e, apesar de não ter números tão expressivos, é o único que mantém suas vendas desde o começo, o que é compreensível, pois olhamos apenas para a plataforma PC, sem necessáriamente olhar para quais tiposde PC.<br>\n",
    "    \n",
    "Além disso, é interessante ver como se comportam algumas plataformas como o DS, que vem desde 1985 em um lento crescimento e acaba tendo um declínio significativo em entre 2010 e 2015, que é quando é lançado o 3DS, a versão mais moderna dele.\n",
    "O mesmo acaba acontecendo com as versões do playstation: quando uma nova versão é lançada, a outra acaba diminuindo consideravelmente suas vendas.\n",
    "</div>"
   ]
  },
  {
   "cell_type": "markdown",
   "metadata": {},
   "source": [
    "<div class=\"alert alert-danger\">\n",
    "<strong>Comentário do revisor v1</strong>\n",
    "\n",
    "Investigaçao das plataformas foi adequada, mas novamente sento falta de uma visualização para ajudar no entendimento.\n",
    "</div>\n"
   ]
  },
  {
   "cell_type": "markdown",
   "metadata": {},
   "source": [
    "<div class=\"alert alert-success\">\n",
    "<strong>Comentário do revisor v2</strong>\n",
    "\n",
    "Super claro!\n",
    "    \n",
    "</div>\n"
   ]
  },
  {
   "cell_type": "code",
   "execution_count": 77,
   "metadata": {},
   "outputs": [
    {
     "name": "stdout",
     "output_type": "stream",
     "text": [
      "Tempo de vida das plataformas:\n",
      "   platform  first_year  last_year  duration\n",
      "13       PC        1985       2016        32\n",
      "4        DS        1985       2013        29\n",
      "5        GB        1988       2001        14\n",
      "28     X360        2005       2016        12\n",
      "19      PSP        2004       2015        12\n",
      "16      PS2        2000       2011        12\n",
      "11      NES        1983       1994        12\n",
      "3        DC        1998       2008        11\n",
      "26      Wii        2006       2016        11\n",
      "17      PS3        2006       2016        11\n",
      "0      2600        1980       1989        10\n",
      "23     SNES        1990       1999        10\n",
      "15       PS        1994       2003        10\n",
      "29       XB        2000       2008         9\n",
      "6       GBA        2000       2007         8\n",
      "7        GC        2001       2007         7\n",
      "10      N64        1996       2002         7\n",
      "2       3DS        2011       2016         6\n",
      "20      PSV        2011       2016         6\n",
      "21      SAT        1994       1999         6\n",
      "27     WiiU        2012       2016         5\n",
      "8       GEN        1990       1994         5\n",
      "12       NG        1993       1996         4\n",
      "30     XOne        2013       2016         4\n",
      "18      PS4        2013       2016         4\n",
      "25       WS        1999       2001         3\n",
      "1       3DO        1994       1995         2\n",
      "22      SCD        1993       1994         2\n",
      "24     TG16        1995       1995         1\n",
      "14     PCFX        1996       1996         1\n",
      "9        GG        1992       1992         1\n"
     ]
    }
   ],
   "source": [
    "#função para analisar a duração de cada plataforma\n",
    "\n",
    "def analyze_platform_lifespan(game_df):\n",
    "    \n",
    "    # identificando o ano de lançamento e de desaparecimento de cada plataforma\n",
    "    platform_years = game_df.groupby('platform')['year_of_release'].agg(['min', 'max']).reset_index()\n",
    "    platform_years.columns = ['platform', 'first_year', 'last_year']\n",
    "\n",
    "    # calculando a duração de existência de cada plataforma\n",
    "    platform_years['duration'] = platform_years['last_year'] - platform_years['first_year'] + 1\n",
    "\n",
    "    # filtrando por duração de existência\n",
    "    platform_years = platform_years.sort_values(by='duration', ascending=False)\n",
    "\n",
    "    return platform_years\n",
    "\n",
    "platform_lifespans = analyze_platform_lifespan(game_df)\n",
    "\n",
    "print(\"Tempo de vida das plataformas:\")\n",
    "print(platform_lifespans)"
   ]
  },
  {
   "cell_type": "markdown",
   "metadata": {},
   "source": [
    "<div class=\"alert alert-block alert-info\">\n",
    "Existem plataformas que demoraram décadas para se tornarem obsoletas, como é o caso do PS2 e do DS. São duas plataformas muito consolidadas no mercado, com jogos que fizeram a infância e adolescência de muitos adultos de hoje em dia e, possívelmente por isso, acabam se tornando clássicos que vivem no coração de muitas pessoas. \n",
    "Na contramão dessas plataformas consolidadas, existem as novas, como o PS4, Wii e WiiU que nasceram há pelo menos 4 anos (como é o caso do PS4) e estão em ascenção, com jogos novos sendo lançados exclusivamente para elas, por exemplo. \n",
    "</div>"
   ]
  },
  {
   "cell_type": "markdown",
   "metadata": {},
   "source": [
    "<div class=\"alert alert-success\">\n",
    "<strong>Comentário do revisor v1</strong>\n",
    "\n",
    "Ciclo de vida corretamente endereçado por aqui!\n",
    "</div>\n"
   ]
  },
  {
   "cell_type": "code",
   "execution_count": 78,
   "metadata": {},
   "outputs": [
    {
     "name": "stdout",
     "output_type": "stream",
     "text": [
      "Plataformas liderando em vendas:\n",
      "   platform  total_sales\n",
      "13     X360       952.99\n",
      "7       PS3       939.65\n",
      "11      Wii       907.51\n",
      "2        DS       655.35\n",
      "8       PS4       314.14\n",
      "6       PS2       265.80\n",
      "0       3DS       259.00\n",
      "9       PSP       238.63\n",
      "5        PC       163.42\n",
      "15     XOne       159.32\n",
      "12     WiiU        82.19\n",
      "10      PSV        54.07\n",
      "4        GC        11.53\n",
      "14       XB        10.77\n",
      "3       GBA         8.68\n",
      "1        DC         0.06\n",
      "\n",
      "Tendência de vendas por plataforma:\n",
      "platform           3DS    DC      DS   GBA     GC     PC     PS2     PS3  \\\n",
      "year_of_release                                                            \n",
      "2006               NaN   NaN  119.81  5.28  11.26   2.85  103.42   29.27   \n",
      "2007               NaN  0.02  146.94  3.40   0.27   9.28   75.99   73.19   \n",
      "2008               NaN  0.04  145.31   NaN    NaN  12.42   53.90  118.52   \n",
      "2009               NaN   NaN  119.54   NaN    NaN  16.91   26.40  130.93   \n",
      "2010               NaN   NaN   85.02   NaN    NaN  24.28    5.64  142.17   \n",
      "2011             64.39   NaN   26.18   NaN    NaN  35.03    0.45  156.78   \n",
      "2012             51.36   NaN   11.01   NaN    NaN  23.22     NaN  107.36   \n",
      "2013             56.57   NaN    1.54   NaN    NaN  12.38     NaN  113.25   \n",
      "2014             43.76   NaN     NaN   NaN    NaN  13.28     NaN   47.76   \n",
      "2015             27.78   NaN     NaN   NaN    NaN   8.52     NaN   16.82   \n",
      "2016             15.14   NaN     NaN   NaN    NaN   5.25     NaN    3.60   \n",
      "\n",
      "platform            PS4    PSP    PSV     Wii   WiiU    X360     XB   XOne  \n",
      "year_of_release                                                             \n",
      "2006                NaN  55.32    NaN  153.48    NaN   51.62  10.04    NaN  \n",
      "2007                NaN  46.93    NaN  152.77    NaN   95.41   0.55    NaN  \n",
      "2008                NaN  34.55    NaN  171.32    NaN  135.26   0.18    NaN  \n",
      "2009                NaN  37.78    NaN  206.97    NaN  120.29    NaN    NaN  \n",
      "2010                NaN  35.04    NaN  127.95    NaN  170.03    NaN    NaN  \n",
      "2011                NaN  17.82   4.89   59.65    NaN  143.84    NaN    NaN  \n",
      "2012                NaN   7.69  16.19   21.71  17.56   99.74    NaN    NaN  \n",
      "2013              25.99   3.14  10.59    8.59  21.65   88.58    NaN  18.96  \n",
      "2014             100.00   0.24  11.90    3.75  22.03   34.74    NaN  54.07  \n",
      "2015             118.90   0.12   6.25    1.14  16.35   11.96    NaN  60.14  \n",
      "2016              69.25    NaN   4.25    0.18   4.60    1.52    NaN  26.15  \n",
      "\n",
      "Plataformas com crescimento positivo:\n",
      "   platform  average_growth_rate\n",
      "8       PS4             0.873019\n",
      "15     XOne             0.466291\n",
      "10      PSV             0.258772\n",
      "5        PC             0.236109\n",
      "1        DC             0.111111\n",
      "7       PS3             0.014075\n",
      "3       GBA            -0.035606\n",
      "4        GC            -0.097602\n",
      "13     X360            -0.114015\n",
      "14       XB            -0.161795\n",
      "12     WiiU            -0.181504\n",
      "0       3DS            -0.229508\n",
      "2        DS            -0.238242\n",
      "6       PS2            -0.277271\n",
      "9       PSP            -0.346964\n",
      "11      Wii            -0.393263\n"
     ]
    }
   ],
   "source": [
    "def analyze_platforms(game_df):\n",
    "    # vou usar dados a partir de 2006\n",
    "    game_df = game_df[game_df['year_of_release'] >= 2006]\n",
    "    \n",
    "    #filtrando as vendas totais por plataforma\n",
    "    platform_sales = game_df.groupby('platform')['total_sales'].sum().reset_index()\n",
    "    platform_sales = platform_sales.sort_values(by='total_sales', ascending=False)\n",
    "    \n",
    "    print(\"Plataformas liderando em vendas:\")\n",
    "    print(platform_sales)\n",
    "    \n",
    "    #tendencia de crescimento\n",
    "    annual_sales = game_df.groupby(['platform', 'year_of_release'])['total_sales'].sum().reset_index()\n",
    "    sales_trend = annual_sales.pivot(index='year_of_release', columns='platform', values='total_sales')\n",
    "    \n",
    "    print(\"\\nTendência de vendas por plataforma:\")\n",
    "    print(sales_trend)\n",
    "    \n",
    "    #plataformas com crescimento positivo\n",
    "    growth_analysis = sales_trend.pct_change().mean().reset_index()\n",
    "    growth_analysis.columns = ['platform', 'average_growth_rate']\n",
    "    growth_analysis = growth_analysis.sort_values(by='average_growth_rate', ascending=False)\n",
    "    \n",
    "    print(\"\\nPlataformas com crescimento positivo:\")\n",
    "    print(growth_analysis)\n",
    "    \n",
    "analyze_platforms(game_df)\n"
   ]
  },
  {
   "cell_type": "markdown",
   "metadata": {},
   "source": [
    "<div class=\"alert alert-success\">\n",
    "<strong>Comentário do revisor v1</strong>\n",
    "\n",
    "Escolha de dados a partir de 2006 está ok!\n",
    "</div>\n"
   ]
  },
  {
   "cell_type": "markdown",
   "metadata": {},
   "source": [
    "<div class=\"alert alert-block alert-info\">\n",
    "O PS4, 3DS e o XOne se destacaram por ter vendas expressivas, acima dos 10 milhões de vendas totais. Sendo que o 3Ds foi o que mais teve um crescimento positivo.\n",
    "</div>"
   ]
  },
  {
   "cell_type": "markdown",
   "metadata": {},
   "source": [
    "<div class=\"alert alert-success\">\n",
    "<strong>Comentário do revisor v1</strong>\n",
    "\n",
    "Plataformas mais populares investigadas!\n",
    "</div>\n"
   ]
  },
  {
   "cell_type": "code",
   "execution_count": 79,
   "metadata": {},
   "outputs": [
    {
     "data": {
      "image/png": "[encoded data removed]",
      "text/plain": [
       "<Figure size 1200x800 with 1 Axes>"
      ]
     },
     "metadata": {},
     "output_type": "display_data"
    },
    {
     "name": "stdout",
     "output_type": "stream",
     "text": [
      "Vendas médias por plataforma:\n",
      "   platform  total_sales\n",
      "8       PS4     0.801378\n",
      "13     X360     0.785000\n",
      "7       PS3     0.705973\n",
      "11      Wii     0.687508\n",
      "15     XOne     0.645020\n",
      "12     WiiU     0.559116\n",
      "0       3DS     0.498077\n",
      "2        DS     0.331152\n",
      "6       PS2     0.330186\n",
      "4        GC     0.262045\n",
      "9       PSP     0.220342\n",
      "5        PC     0.210593\n",
      "3       GBA     0.192889\n",
      "14       XB     0.163182\n",
      "10      PSV     0.125744\n",
      "1        DC     0.030000\n"
     ]
    }
   ],
   "source": [
    "#função para analisar a distribuição das vendas\n",
    "\n",
    "def analyze_sales_distribution(game_df):\n",
    "    # plotando um diagrama de caixa para as vendas por plataforma\n",
    "    #definindo o ano para 2006 para frente\n",
    "    game_df = game_df[game_df['year_of_release'] >= 2006]\n",
    "    \n",
    "    plt.figure(figsize=(12, 8))\n",
    "    sns.boxplot(data=game_df, x='platform', y='total_sales')\n",
    "    plt.xticks(rotation=90)\n",
    "    plt.title('Distribuição das Vendas Globais por Plataforma')\n",
    "    plt.xlabel('Plataforma')\n",
    "    plt.ylabel('Vendas Globais')\n",
    "    plt.show()\n",
    "\n",
    "    # Calcular vendas médias por plataforma\n",
    "    mean_sales_platform = game_df.groupby('platform')['total_sales'].mean().reset_index()\n",
    "    mean_sales_platform = mean_sales_platform.sort_values(by='total_sales', ascending=False)\n",
    "\n",
    "    print(\"Vendas médias por plataforma:\")\n",
    "    print(mean_sales_platform)\n",
    "\n",
    "\n",
    "analyze_sales_distribution(game_df)"
   ]
  },
  {
   "cell_type": "markdown",
   "metadata": {},
   "source": [
    "<div class=\"alert alert-block alert-info\">\n",
    "Agora faz mais sentido esses dados. \n",
    "    \n",
    "Podemos observar que eles se mantem em um padrão até que parecido, não ultrapassando a marca dos 20 milhões, sendo que o Wii tem um outlier bem grande, acima de 80 milhões. <br> \n",
    "    \n",
    "A venda média por plataformas é bastante interessante: o Xbox 360, que foi lançado em 2005, fica em segundo lugar como os que mais vendem, ficando atrás apenas do PS4, lançado em 2013. Além disso, é possível observar que o PS4 e o Xbox 360 tem uma média de vendas similares, apesar de um estar há pelo menos 10 anos a mais que o outro no mercado.\n",
    "</div>"
   ]
  },
  {
   "cell_type": "markdown",
   "metadata": {},
   "source": [
    "<div class=\"alert alert-danger\">\n",
    "<strong>Comentário do revisor v1</strong>\n",
    "\n",
    "Obrigado pelo boxplot, mas note que após a escolha do período de 2006, todas as análises posteriores devem utilizar esse filtro.\n",
    "</div>\n"
   ]
  },
  {
   "cell_type": "markdown",
   "metadata": {},
   "source": [
    "<div class=\"alert alert-success\">\n",
    "<strong>Comentário do revisor v2</strong>\n",
    "\n",
    "Perfeito!\n",
    "    \n",
    "</div>\n"
   ]
  },
  {
   "cell_type": "code",
   "execution_count": 80,
   "metadata": {},
   "outputs": [
    {
     "data": {
      "image/png": "[encoded data removed]",
      "text/plain": [
       "<Figure size 1200x600 with 2 Axes>"
      ]
     },
     "metadata": {},
     "output_type": "display_data"
    },
    {
     "name": "stdout",
     "output_type": "stream",
     "text": [
      "Correlação entre avaliações de usuários e vendas: -0.07\n",
      "Correlação entre avaliações de críticos e vendas: 0.42\n"
     ]
    }
   ],
   "source": [
    "#função para analisar a correlação das avaliações na plataforma XOne\n",
    "\n",
    "def review_effects(game_df, platform):\n",
    "    # filtrando os dados para plataforma escolhida\n",
    "    platform_data = game_df[game_df['platform'] == platform]\n",
    "    \n",
    "    # plotando gráfico de dispersão para avaliações de usuários vs vendas\n",
    "    plt.figure(figsize=(12, 6))\n",
    "\n",
    "    plt.subplot(1, 2, 1)\n",
    "    sns.scatterplot(data=platform_data, x='user_score', y='total_sales')\n",
    "    plt.title('Avaliações de Usuários vs Vendas')\n",
    "    plt.xlabel('Avaliação de Usuários')\n",
    "    plt.ylabel('Vendas Totais')\n",
    "\n",
    "    # plotando gráfico de dispersão para avaliações de críticos vs vendas\n",
    "    plt.subplot(1, 2, 2)\n",
    "    sns.scatterplot(data=platform_data, x='critic_score', y='total_sales')\n",
    "    plt.title('Avaliações de Críticos vs Vendas')\n",
    "    plt.xlabel('Avaliação de Críticos')\n",
    "    plt.ylabel('Vendas Totais')\n",
    "\n",
    "    plt.tight_layout()\n",
    "    plt.show()\n",
    "\n",
    "    # Calcular a correlação entre avaliações de usuários e vendas\n",
    "    user_score_corr = platform_data['user_score'].corr(platform_data['total_sales'])\n",
    "    critic_score_corr = platform_data['critic_score'].corr(platform_data['total_sales'])\n",
    "\n",
    "    print(f\"Correlação entre avaliações de usuários e vendas: {user_score_corr:.2f}\")\n",
    "    print(f\"Correlação entre avaliações de críticos e vendas: {critic_score_corr:.2f}\")\n",
    "    \n",
    "review_effects(game_df, 'XOne')\n"
   ]
  },
  {
   "cell_type": "markdown",
   "metadata": {},
   "source": [
    "<div class=\"alert alert-block alert-info\">\n",
    "Existe uma correlação muito baixa entre a avaliação dos usuários e as vendas para o XOne, sendo de 0.11 e 0.39 números muito próximos de 0 para considerarmos que eles existem alguma relação.\n",
    "</div>"
   ]
  },
  {
   "cell_type": "code",
   "execution_count": 81,
   "metadata": {},
   "outputs": [
    {
     "data": {
      "image/png": "[encoded data removed]",
      "text/plain": [
       "<Figure size 1200x600 with 2 Axes>"
      ]
     },
     "metadata": {},
     "output_type": "display_data"
    },
    {
     "name": "stdout",
     "output_type": "stream",
     "text": [
      "Correlação entre avaliações de usuários e vendas: 0.17\n",
      "Correlação entre avaliações de críticos e vendas: 0.40\n"
     ]
    }
   ],
   "source": [
    "#fazendo a mesma comparaão para o PS4\n",
    "review_effects(game_df, 'PS2')"
   ]
  },
  {
   "cell_type": "markdown",
   "metadata": {},
   "source": [
    "<div class=\"alert alert-block alert-info\">\n",
    "Essa comparação feita para o PS2 também indica uma correlação bem baixa, até um pouco próxima do comportamento visto no XOne.\n",
    "</div>"
   ]
  },
  {
   "cell_type": "markdown",
   "metadata": {},
   "source": [
    "<div class=\"alert alert-success\">\n",
    "<strong>Comentário do revisor v1</strong>\n",
    "\n",
    "Correlações foram exploradas corretamente e visualizações/conclusões foram fornecidas.\n",
    "</div>\n"
   ]
  },
  {
   "cell_type": "code",
   "execution_count": 82,
   "metadata": {},
   "outputs": [
    {
     "data": {
      "image/png": "[encoded data removed]",
      "text/plain": [
       "<Figure size 1200x800 with 1 Axes>"
      ]
     },
     "metadata": {},
     "output_type": "display_data"
    }
   ],
   "source": [
    "#função para analisar as vendas por genero\n",
    "\n",
    "def genre_sales(game_df):\n",
    "    # calculando as vendas totais por gênero\n",
    "    sales_by_genre = game_df.groupby('genre')['total_sales'].sum().reset_index()\n",
    "    sales_by_genre = sales_by_genre.sort_values(by='total_sales', ascending=False)\n",
    "    \n",
    "    # visualizando a distribuição de vendas por gênero\n",
    "    plt.figure(figsize=(12, 8))\n",
    "    sns.barplot(data=sales_by_genre, x='total_sales', y='genre', palette='viridis')\n",
    "    plt.title('Distribuição de Vendas Totais por Gênero')\n",
    "    plt.xlabel('Vendas Totais')\n",
    "    plt.ylabel('Gênero')\n",
    "    plt.show()\n",
    "\n",
    "genre_sales(game_df)"
   ]
  },
  {
   "cell_type": "markdown",
   "metadata": {},
   "source": [
    "<div class=\"alert alert-block alert-info\">\n",
    "É possível observar que o gênero mais popular em vendas é o de ação e o menor de estratégia. Poderíamos generalizar é dizer que esses jogos são os mais populares por existem mais jogos dessa categoria no mercado, porém seria necessário um olhar mais aprofundado nessa questão, uma análise de todos os jogos existentes e suas variáveis.\n",
    "</div>"
   ]
  },
  {
   "cell_type": "markdown",
   "metadata": {},
   "source": [
    "<div class=\"alert alert-success\">\n",
    "<strong>Comentário do revisor v1</strong>\n",
    "\n",
    "Gêneros foram investigados com sucesso!\n",
    "</div>\n"
   ]
  },
  {
   "cell_type": "code",
   "execution_count": 83,
   "metadata": {},
   "outputs": [
    {
     "name": "stdout",
     "output_type": "stream",
     "text": [
      "Top 5 platform in North America:\n",
      "   platform  na_sales  eu_sales  jp_sales\n",
      "28     X360    602.47    270.76     12.43\n",
      "16      PS2    583.84    339.29    139.20\n",
      "26      Wii    496.90    262.21     69.33\n",
      "17      PS3    393.49    330.29     80.19\n",
      "4        DS    382.40    188.89    175.57\n",
      "\n",
      "Top 5 platform in Europe:\n",
      "   platform  na_sales  eu_sales  jp_sales\n",
      "16      PS2    583.84    339.29    139.20\n",
      "17      PS3    393.49    330.29     80.19\n",
      "28     X360    602.47    270.76     12.43\n",
      "26      Wii    496.90    262.21     69.33\n",
      "15       PS    336.52    213.61    139.82\n",
      "\n",
      "Top 5platform in Japan:\n",
      "   platform  na_sales  eu_sales  jp_sales\n",
      "4        DS    382.40    188.89    175.57\n",
      "15       PS    336.52    213.61    139.82\n",
      "16      PS2    583.84    339.29    139.20\n",
      "23     SNES     61.23     19.04    116.55\n",
      "2       3DS     83.49     61.48    100.67\n",
      "\n",
      "Comparação das quotas de mercado das principais platform:\n",
      "  platform  na_sales  eu_sales  jp_sales\n",
      "0     X360       NaN       NaN       NaN\n",
      "1      PS2    583.84    339.29    139.20\n",
      "2      Wii       NaN       NaN       NaN\n",
      "3      PS3       NaN       NaN       NaN\n",
      "4       DS    382.40    188.89    175.57\n",
      "5       PS    336.52    213.61    139.82\n",
      "6     SNES     61.23     19.04    116.55\n",
      "7      3DS     83.49     61.48    100.67\n"
     ]
    }
   ],
   "source": [
    "#função para analisar as vendas por região:\n",
    "\n",
    "def region_count(game_df, col):\n",
    "    # calculando as vendas totais por plataforma em cada região\n",
    "    region_sales = game_df.groupby(col).agg({\n",
    "        'na_sales': 'sum',\n",
    "        'eu_sales': 'sum',\n",
    "        'jp_sales': 'sum'\n",
    "    }).reset_index()\n",
    "    \n",
    "    # top 5 de cada região\n",
    "    top_na = region_sales.nlargest(5, 'na_sales')\n",
    "    top_eu = region_sales.nlargest(5, 'eu_sales')\n",
    "    top_jp = region_sales.nlargest(5, 'jp_sales')\n",
    "    \n",
    "    print(f\"Top 5 {col} in North America:\")\n",
    "    print(top_na)\n",
    "    \n",
    "    print(f\"\\nTop 5 {col} in Europe:\")\n",
    "    print(top_eu)\n",
    "    \n",
    "    print(f\"\\nTop 5{col} in Japan:\")\n",
    "    print(top_jp)\n",
    "    \n",
    "    # quotas de mercado das principais plataformas em diferentes regiões\n",
    "    comparison_df = pd.merge(top_na, top_eu, on=col, how='outer', suffixes=('_na', '_eu'))\n",
    "    comparison_df = pd.merge(comparison_df, top_jp, on=col, how='outer', suffixes=('', '_jp'))\n",
    "    \n",
    "    print(f\"\\nComparação das quotas de mercado das principais {col}:\") #aqui nao soube escrever em ingles kkk\n",
    "    print(comparison_df[[col, 'na_sales', 'eu_sales', 'jp_sales']])\n",
    "\n",
    "\n",
    "region_count(game_df, 'platform')"
   ]
  },
  {
   "cell_type": "markdown",
   "metadata": {},
   "source": [
    "<div class=\"alert alert-block alert-info\">\n",
    "O comportamento da américa do norte e da europa é similar em relação as plataformas mais usadas, porém quando olhamos para o Japão, percebemos que as pltaformas nintendo acabam se destacando.\n",
    "A quota de mercado para a plataforma playstation se desctada na europa e AN, enquanto o caminho oposto acontece no Japão: a cota de mercado para as plataformas nintendo (3DS, SNES, DS) são significativas. \n",
    "</div>"
   ]
  },
  {
   "cell_type": "code",
   "execution_count": 84,
   "metadata": {},
   "outputs": [
    {
     "name": "stdout",
     "output_type": "stream",
     "text": [
      "Top 5 genre in North America:\n",
      "       genre  na_sales  eu_sales  jp_sales\n",
      "0     Action    879.01    519.13    161.43\n",
      "10    Sports    684.43    376.79    135.54\n",
      "8    Shooter    592.24    317.34     38.76\n",
      "4   Platform    445.50    200.35    130.83\n",
      "3       Misc    407.27    212.74    108.11\n",
      "\n",
      "Top 5 genre in Europe:\n",
      "      genre  na_sales  eu_sales  jp_sales\n",
      "0    Action    879.01    519.13    161.43\n",
      "10   Sports    684.43    376.79    135.54\n",
      "8   Shooter    592.24    317.34     38.76\n",
      "6    Racing    359.35    236.51     56.71\n",
      "3      Misc    407.27    212.74    108.11\n",
      "\n",
      "Top 5genre in Japan:\n",
      "           genre  na_sales  eu_sales  jp_sales\n",
      "7   Role-Playing    330.81    188.71    355.41\n",
      "0         Action    879.01    519.13    161.43\n",
      "10        Sports    684.43    376.79    135.54\n",
      "4       Platform    445.50    200.35    130.83\n",
      "3           Misc    407.27    212.74    108.11\n",
      "\n",
      "Comparação das quotas de mercado das principais genre:\n",
      "          genre  na_sales  eu_sales  jp_sales\n",
      "0        Action    879.01    519.13    161.43\n",
      "1        Sports    684.43    376.79    135.54\n",
      "2       Shooter       NaN       NaN       NaN\n",
      "3      Platform    445.50    200.35    130.83\n",
      "4          Misc    407.27    212.74    108.11\n",
      "5        Racing       NaN       NaN       NaN\n",
      "6  Role-Playing    330.81    188.71    355.41\n"
     ]
    }
   ],
   "source": [
    "#fazendo o mesmo filtro acima, mas para a visão de genero:\n",
    "region_count(game_df, 'genre')"
   ]
  },
  {
   "cell_type": "markdown",
   "metadata": {},
   "source": [
    "<div class=\"alert alert-block alert-info\">\n",
    "O genero de jogos de ação se destaca na Europa e América do Norte, enquanto o de role-playing lidera o ranking no Japão. O que faz sentido, já que a maioria dos jogos da nintendo se enquadram em Role-Playing, enquanto os jogos do playstation e xbox são de ação. \n",
    "</div>"
   ]
  },
  {
   "cell_type": "code",
   "execution_count": 85,
   "metadata": {},
   "outputs": [
    {
     "name": "stdout",
     "output_type": "stream",
     "text": [
      "Vendas totais por classificação em cada região:\n",
      "  rating  na_sales  eu_sales  jp_sales\n",
      "0     AO      1.26      0.61      0.00\n",
      "1      E   1292.99    710.25    198.11\n",
      "2   E10+    353.32    188.52     40.20\n",
      "3     EC      1.53      0.11      0.00\n",
      "4    K-A      2.56      0.27      1.46\n",
      "5      M    748.48    483.97     64.24\n",
      "6     RP      0.00      0.08      0.00\n",
      "7      T    759.75    427.03    151.40\n"
     ]
    }
   ],
   "source": [
    "#analisando a classficação de acordo com a região\n",
    "def analyze_rating(game_df, col):    \n",
    "    #vendas totais por classificação em cada região\n",
    "    region_sales = game_df.groupby(col).agg({\n",
    "        'na_sales': 'sum',\n",
    "        'eu_sales': 'sum',\n",
    "        'jp_sales': 'sum'\n",
    "    }).reset_index()\n",
    "    \n",
    "    #comparando as vendas entre diferentes classificações\n",
    "    print(\"Vendas totais por classificação em cada região:\")\n",
    "    print(region_sales)\n",
    "\n",
    "analyze_rating(game_df, 'rating')"
   ]
  },
  {
   "cell_type": "markdown",
   "metadata": {},
   "source": [
    "<div class=\"alert alert-block alert-info\">\n",
    "Os jogos de classificação 'E' (explicit) lideram de forma bastante destacada na região da América do Norte, enquanto no Japão, esse número é muito menor. Quando voltamos a comparação de quais plataformas são mais comum em quais regiões, também podemos ver que faz sentido essa comparação, afinal, a maioria dos jogos da Nintendo tem classficação T (teen). \n",
    "</div>"
   ]
  },
  {
   "cell_type": "markdown",
   "metadata": {},
   "source": [
    "<div class=\"alert alert-success\">\n",
    "<strong>Comentário do revisor v1</strong>\n",
    "\n",
    "COmparativos de perfis por região para classificação, gênero e plataforma foram fornecidos.\n",
    "</div>\n"
   ]
  },
  {
   "cell_type": "code",
   "execution_count": 86,
   "metadata": {},
   "outputs": [],
   "source": [
    "#Testando hipósteses:\n",
    "\n",
    "#fazendo uma função base\n",
    "def rating_test(df, col, row1, row2, col2):\n",
    "    filtered_1 = df[df[col] == row1][col2]\n",
    "    filtered_2 = df[df[col] == row2][col2]\n",
    "    \n",
    "    #calculando media\n",
    "    filtered_1_mean = filtered_1.mean()\n",
    "    filtered_2_mean = filtered_2.mean()\n",
    "    \n",
    "    #teste t\n",
    "    t_stat, p_value = ttest_ind(filtered_1.dropna(), filtered_2.dropna())\n",
    "    \n",
    "    print(f\"Média das classificações dos usuários para {row1}: {filtered_1_mean:.2f}\")\n",
    "    print(f\"Média das classificações dos usuários para {row2}: {filtered_2_mean:.2f}\")\n",
    "    print(f\"Estatística t: {t_stat:.2f}\")\n",
    "    print(f\"Valor p: {p_value:.4f}\")\n",
    "    \n",
    "    \n",
    "    if p_value < 0.05:\n",
    "        print(f\"As classificações médias dos usuários para {row1} e {row2} são significativamente diferentes.\")\n",
    "    else:\n",
    "        print(f\"Não há diferença significativa entre as classificações médias dos usuários para  {row1} e {row2}.\")\n"
   ]
  },
  {
   "cell_type": "markdown",
   "metadata": {},
   "source": [
    "***\n",
    "#### Testando a hipótese de que as classificações médias de usuários para os gêneros Action (ação) e Sports (esportes) são diferentes.\n",
    "\n",
    "H₀: As médias das classificações para os gêneros Action e Sports são iguais.<br>\n",
    "H₁: As médias das classificações para os gêneros Action e Sports são diferentes<br>\n",
    "\n",
    "Se o valor de alpha for menor do que 0.05, significa que as avaliações para esses dois gêneros são diferentes. \n",
    "Caso seja maior, eles possuem quase as mesmas avaliações.\n",
    "***\n",
    "\n"
   ]
  },
  {
   "cell_type": "code",
   "execution_count": 87,
   "metadata": {},
   "outputs": [
    {
     "name": "stdout",
     "output_type": "stream",
     "text": [
      "Média das classificações dos usuários para Action: 7.05\n",
      "Média das classificações dos usuários para Sports: 6.96\n",
      "Estatística t: 1.63\n",
      "Valor p: 0.1041\n",
      "Não há diferença significativa entre as classificações médias dos usuários para  Action e Sports.\n"
     ]
    }
   ],
   "source": [
    "rating_test(game_df, 'genre', 'Action','Sports','user_score')"
   ]
  },
  {
   "cell_type": "markdown",
   "metadata": {},
   "source": [
    "***\n",
    "#### Testando a hipótese de que as classificações médias dos usuários das plataformas Xbox One e PC são as mesmas.\n",
    "\n",
    "H₀: Testando a hipótese de que as classificações médias dos usuários das plataformas Xbox One e PC são as mesmas.<br>\n",
    "H₁:Testando a hipótese de que as classificações médias dos usuários das plataformas Xbox One e PC são diferentes<br>\n",
    "\n",
    "Se o valor de alpha for menor do que 0.05, significa que as avaliações para esses plataformas são diferentes. \n",
    "Caso seja maior, eles possuem quase as mesmas avaliações.\n",
    "***\n"
   ]
  },
  {
   "cell_type": "code",
   "execution_count": 88,
   "metadata": {},
   "outputs": [
    {
     "name": "stdout",
     "output_type": "stream",
     "text": [
      "Média das classificações dos usuários para XOne: 6.52\n",
      "Média das classificações dos usuários para PC: 7.06\n",
      "Estatística t: -4.37\n",
      "Valor p: 0.0000\n",
      "As classificações médias dos usuários para XOne e PC são significativamente diferentes.\n"
     ]
    }
   ],
   "source": [
    "rating_test(game_df, 'platform', 'XOne','PC','user_score')"
   ]
  },
  {
   "cell_type": "markdown",
   "metadata": {},
   "source": [
    "<div class=\"alert alert-block alert-info\">\n",
    "O valor de alpha foi definido para 0.05 por ser um valor padrão, que evita resultado com falsos positivos.\n",
    "Defini no texto acima qual minha hipótese nula e qual minha hipótese alternativa.<br>\n",
    "    \n",
    "No primeiro resultado, tivemos uma diferença bem pequena entre as avaliações e o valor de p acima de 0.05, o que indica que as avaliações **não são** diferentes umas das outras.<br>\n",
    "\n",
    "Já no segundo resultado, tivemos uma diferença significativa nas avaliações (mais que 0,50 entre um e outro) e o valor p foi quase 0, o que indica que as avaliações **são** diferentes uma das outras.\n",
    "</div>"
   ]
  },
  {
   "cell_type": "markdown",
   "metadata": {},
   "source": [
    "<div class=\"alert alert-danger\">\n",
    "<strong>Comentário do revisor v1</strong>\n",
    "\n",
    "Estamos no caminho certo aqui, mas alguns ajustes se fazem necessários aqui:\n",
    "    \n",
    "1. Lembre-se de descrever com clarezas as hipóteses que estão sendo tratadas.\n",
    "2. O problema com o segundo teste parece ter a ver com um typo em Xone (XOne), me parece que essa é a razão do filtro retornar uma lista nula.\n",
    "    \n",
    "\n",
    "</div>\n"
   ]
  },
  {
   "cell_type": "markdown",
   "metadata": {},
   "source": [
    "<div class=\"alert alert-success\">\n",
    "<strong>Comentário do revisor v2</strong>\n",
    "\n",
    "Perfeito! Os testes foram formulados, implementados e analisados corretamente. Muito bom!\n",
    "</div>"
   ]
  },
  {
   "cell_type": "markdown",
   "metadata": {},
   "source": [
    "# CONCLUSÃO FINAL"
   ]
  },
  {
   "cell_type": "markdown",
   "metadata": {},
   "source": [
    "<div class=\"alert alert-block alert-info\">\n",
    "Olhar para os dados filtrando-os por regiões nos dá um norte bem interessante, porque dessa forma podemos entender como cada público se comporta. Se olharmos para o comparativo entre America do Norte e Japão, por exemplo, é possível perceber que o primeiro consome muitos produtos da Playstation, joga muitos jogos de ação e com classificação Explicita, enquanto o segundo consome mais jogos da Nintendo, de Role Play e classificação Teen.\n",
    "Então, se por exemplo a Sony lançasse um novo jogo de ação, voltado principalmente para o público adulto, saberíamos que nossas estratégias de marketing intensificadas na América do Norte.\n",
    "</div\n"
   ]
  },
  {
   "cell_type": "markdown",
   "metadata": {},
   "source": [
    "<div class=\"alert alert-success\">\n",
    "<strong>Comentário do revisor v1</strong>\n",
    "\n",
    "Conclusão fornecida!\n",
    "</div>\n"
   ]
  }
 ],
 "metadata": {
  "ExecuteTimeLog": [
   {
    "duration": 4877,
    "start_time": "2024-07-21T18:05:55.798Z"
   },
   {
    "duration": 1127,
    "start_time": "2024-07-21T18:06:33.032Z"
   },
   {
    "duration": 55,
    "start_time": "2024-07-21T18:06:54.784Z"
   },
   {
    "duration": 4,
    "start_time": "2024-07-21T18:24:22.401Z"
   },
   {
    "duration": 3,
    "start_time": "2024-07-21T18:24:25.797Z"
   },
   {
    "duration": 45,
    "start_time": "2024-07-21T18:24:39.199Z"
   },
   {
    "duration": 6,
    "start_time": "2024-07-21T18:24:56.413Z"
   },
   {
    "duration": 18,
    "start_time": "2024-07-21T18:25:04.767Z"
   },
   {
    "duration": 39,
    "start_time": "2024-07-21T18:25:10.634Z"
   },
   {
    "duration": 7,
    "start_time": "2024-07-21T18:25:13.693Z"
   },
   {
    "duration": 6,
    "start_time": "2024-07-21T18:25:16.487Z"
   },
   {
    "duration": 18,
    "start_time": "2024-07-21T18:25:30.656Z"
   },
   {
    "duration": 13,
    "start_time": "2024-07-21T18:26:09.523Z"
   },
   {
    "duration": 27,
    "start_time": "2024-07-21T18:26:30.949Z"
   },
   {
    "duration": 26,
    "start_time": "2024-07-21T18:26:38.865Z"
   },
   {
    "duration": 28,
    "start_time": "2024-07-21T18:27:00.157Z"
   },
   {
    "duration": 24,
    "start_time": "2024-07-21T18:27:02.001Z"
   },
   {
    "duration": 25,
    "start_time": "2024-07-21T18:27:05.463Z"
   },
   {
    "duration": 25,
    "start_time": "2024-07-21T18:27:07.019Z"
   },
   {
    "duration": 23,
    "start_time": "2024-07-21T18:27:08.838Z"
   },
   {
    "duration": 25,
    "start_time": "2024-07-21T18:27:27.246Z"
   },
   {
    "duration": 23,
    "start_time": "2024-07-21T18:27:46.872Z"
   },
   {
    "duration": 7,
    "start_time": "2024-07-21T18:28:22.809Z"
   },
   {
    "duration": 26,
    "start_time": "2024-07-21T18:28:28.218Z"
   },
   {
    "duration": 29,
    "start_time": "2024-07-21T18:29:11.115Z"
   },
   {
    "duration": 24,
    "start_time": "2024-07-21T18:29:20.480Z"
   },
   {
    "duration": 26,
    "start_time": "2024-07-21T18:29:38.459Z"
   },
   {
    "duration": 24,
    "start_time": "2024-07-21T18:29:46.971Z"
   },
   {
    "duration": 22,
    "start_time": "2024-07-21T18:30:01.583Z"
   },
   {
    "duration": 19,
    "start_time": "2024-07-21T18:31:09.356Z"
   },
   {
    "duration": 21,
    "start_time": "2024-07-21T18:31:23.460Z"
   },
   {
    "duration": 1149,
    "start_time": "2024-07-21T18:32:47.165Z"
   },
   {
    "duration": 20,
    "start_time": "2024-07-21T18:33:13.609Z"
   },
   {
    "duration": 110,
    "start_time": "2024-07-21T18:34:19.032Z"
   },
   {
    "duration": 30,
    "start_time": "2024-07-21T18:34:52.224Z"
   },
   {
    "duration": 107,
    "start_time": "2024-07-21T18:34:57.859Z"
   },
   {
    "duration": 4,
    "start_time": "2024-07-21T18:36:37.036Z"
   },
   {
    "duration": 409,
    "start_time": "2024-07-21T18:36:58.076Z"
   },
   {
    "duration": 54,
    "start_time": "2024-07-21T18:37:09.320Z"
   },
   {
    "duration": 53,
    "start_time": "2024-07-21T18:37:19.552Z"
   },
   {
    "duration": 54,
    "start_time": "2024-07-21T18:38:14.726Z"
   },
   {
    "duration": 30,
    "start_time": "2024-07-21T18:38:29.909Z"
   },
   {
    "duration": 3,
    "start_time": "2024-07-21T18:38:34.215Z"
   },
   {
    "duration": 36,
    "start_time": "2024-07-21T18:38:34.222Z"
   },
   {
    "duration": 907,
    "start_time": "2024-07-21T18:38:36.348Z"
   },
   {
    "duration": 99,
    "start_time": "2024-07-21T18:39:02.433Z"
   },
   {
    "duration": 1280,
    "start_time": "2024-07-21T18:39:16.005Z"
   },
   {
    "duration": 48,
    "start_time": "2024-07-21T18:39:17.288Z"
   },
   {
    "duration": 45,
    "start_time": "2024-07-21T18:39:17.339Z"
   },
   {
    "duration": 493,
    "start_time": "2024-07-21T18:39:17.390Z"
   },
   {
    "duration": 16,
    "start_time": "2024-07-21T18:39:58.184Z"
   },
   {
    "duration": 17,
    "start_time": "2024-07-21T18:40:21.829Z"
   },
   {
    "duration": 1157,
    "start_time": "2024-07-21T18:41:17.890Z"
   },
   {
    "duration": 33,
    "start_time": "2024-07-21T18:43:03.494Z"
   },
   {
    "duration": 6,
    "start_time": "2024-07-21T18:46:05.010Z"
   },
   {
    "duration": 5,
    "start_time": "2024-07-21T18:46:25.138Z"
   },
   {
    "duration": 24,
    "start_time": "2024-07-21T18:46:29.946Z"
   },
   {
    "duration": 23,
    "start_time": "2024-07-21T18:46:33.260Z"
   },
   {
    "duration": 11,
    "start_time": "2024-07-21T18:46:39.664Z"
   },
   {
    "duration": 4,
    "start_time": "2024-07-21T18:46:45.033Z"
   },
   {
    "duration": 37,
    "start_time": "2024-07-21T18:46:45.040Z"
   },
   {
    "duration": 32,
    "start_time": "2024-07-21T18:46:45.079Z"
   },
   {
    "duration": 29,
    "start_time": "2024-07-21T18:46:45.114Z"
   },
   {
    "duration": 4,
    "start_time": "2024-07-21T18:46:45.146Z"
   },
   {
    "duration": 60,
    "start_time": "2024-07-21T18:46:45.153Z"
   },
   {
    "duration": 14,
    "start_time": "2024-07-21T18:46:58.921Z"
   },
   {
    "duration": 105,
    "start_time": "2024-07-21T18:47:01.475Z"
   },
   {
    "duration": 47,
    "start_time": "2024-07-21T18:47:08.998Z"
   },
   {
    "duration": 13,
    "start_time": "2024-07-21T18:47:15.390Z"
   },
   {
    "duration": 4,
    "start_time": "2024-07-21T18:47:23.854Z"
   },
   {
    "duration": 38,
    "start_time": "2024-07-21T18:47:23.863Z"
   },
   {
    "duration": 31,
    "start_time": "2024-07-21T18:47:23.904Z"
   },
   {
    "duration": 24,
    "start_time": "2024-07-21T18:47:31.921Z"
   },
   {
    "duration": 22,
    "start_time": "2024-07-21T18:47:41.818Z"
   },
   {
    "duration": 22,
    "start_time": "2024-07-21T18:47:48.372Z"
   },
   {
    "duration": 18,
    "start_time": "2024-07-21T18:48:11.475Z"
   },
   {
    "duration": 30,
    "start_time": "2024-07-21T19:09:50.106Z"
   },
   {
    "duration": 26,
    "start_time": "2024-07-21T19:09:58.186Z"
   },
   {
    "duration": 19,
    "start_time": "2024-07-21T19:10:08.010Z"
   },
   {
    "duration": 20,
    "start_time": "2024-07-21T19:11:33.579Z"
   },
   {
    "duration": 34,
    "start_time": "2024-07-21T19:11:45.870Z"
   },
   {
    "duration": 25,
    "start_time": "2024-07-21T19:12:41.966Z"
   },
   {
    "duration": 25,
    "start_time": "2024-07-21T19:13:04.263Z"
   },
   {
    "duration": 25,
    "start_time": "2024-07-21T19:13:22.966Z"
   },
   {
    "duration": 32,
    "start_time": "2024-07-21T19:13:45.443Z"
   },
   {
    "duration": 40,
    "start_time": "2024-07-21T19:14:52.787Z"
   },
   {
    "duration": 7,
    "start_time": "2024-07-21T19:15:56.927Z"
   },
   {
    "duration": 126,
    "start_time": "2024-07-21T19:16:30.717Z"
   },
   {
    "duration": 23,
    "start_time": "2024-07-21T19:18:58.902Z"
   },
   {
    "duration": 33,
    "start_time": "2024-07-21T19:19:18.910Z"
   },
   {
    "duration": 24,
    "start_time": "2024-07-21T19:20:07.890Z"
   },
   {
    "duration": 30,
    "start_time": "2024-07-21T19:20:12.727Z"
   },
   {
    "duration": 24,
    "start_time": "2024-07-21T19:20:15.760Z"
   },
   {
    "duration": 25,
    "start_time": "2024-07-21T19:20:17.989Z"
   },
   {
    "duration": 29,
    "start_time": "2024-07-21T19:21:02.059Z"
   },
   {
    "duration": 14,
    "start_time": "2024-07-21T19:21:07.480Z"
   },
   {
    "duration": 571,
    "start_time": "2024-07-21T19:21:21.249Z"
   },
   {
    "duration": 10,
    "start_time": "2024-07-21T19:21:28.535Z"
   },
   {
    "duration": 42,
    "start_time": "2024-07-21T19:21:37.344Z"
   },
   {
    "duration": 27,
    "start_time": "2024-07-21T19:22:39.497Z"
   },
   {
    "duration": 27,
    "start_time": "2024-07-21T19:22:57.959Z"
   },
   {
    "duration": 4,
    "start_time": "2024-07-21T19:23:22.317Z"
   },
   {
    "duration": 27,
    "start_time": "2024-07-21T19:23:31.116Z"
   },
   {
    "duration": 5,
    "start_time": "2024-07-21T19:23:35.143Z"
   },
   {
    "duration": 46,
    "start_time": "2024-07-21T19:23:45.852Z"
   },
   {
    "duration": 7,
    "start_time": "2024-07-21T19:24:20.137Z"
   },
   {
    "duration": 7,
    "start_time": "2024-07-21T19:24:24.201Z"
   },
   {
    "duration": 35,
    "start_time": "2024-07-21T19:24:28.204Z"
   },
   {
    "duration": 21,
    "start_time": "2024-07-21T19:26:17.058Z"
   },
   {
    "duration": 20,
    "start_time": "2024-07-21T19:30:25.751Z"
   },
   {
    "duration": 6,
    "start_time": "2024-07-21T19:33:55.202Z"
   },
   {
    "duration": 20,
    "start_time": "2024-07-21T19:34:17.033Z"
   },
   {
    "duration": 21,
    "start_time": "2024-07-21T19:34:25.612Z"
   },
   {
    "duration": 79,
    "start_time": "2024-07-21T19:35:52.832Z"
   },
   {
    "duration": 21,
    "start_time": "2024-07-21T19:36:02.723Z"
   },
   {
    "duration": 32,
    "start_time": "2024-07-21T19:37:52.190Z"
   },
   {
    "duration": 13,
    "start_time": "2024-07-21T19:38:13.764Z"
   },
   {
    "duration": 9,
    "start_time": "2024-07-21T19:38:26.114Z"
   },
   {
    "duration": 35,
    "start_time": "2024-07-21T19:38:31.175Z"
   },
   {
    "duration": 30,
    "start_time": "2024-07-21T19:39:20.110Z"
   },
   {
    "duration": 39,
    "start_time": "2024-07-21T19:39:28.485Z"
   },
   {
    "duration": 29,
    "start_time": "2024-07-21T19:40:12.378Z"
   },
   {
    "duration": 38,
    "start_time": "2024-07-21T19:40:24.132Z"
   },
   {
    "duration": 23,
    "start_time": "2024-07-21T19:42:37.144Z"
   },
   {
    "duration": 39,
    "start_time": "2024-07-21T19:42:56.030Z"
   },
   {
    "duration": 346,
    "start_time": "2024-07-21T19:43:45.142Z"
   },
   {
    "duration": 17,
    "start_time": "2024-07-21T19:43:56.698Z"
   },
   {
    "duration": 51,
    "start_time": "2024-07-21T19:44:32.571Z"
   },
   {
    "duration": 4,
    "start_time": "2024-07-21T19:44:36.025Z"
   },
   {
    "duration": 37,
    "start_time": "2024-07-21T19:44:36.034Z"
   },
   {
    "duration": 19,
    "start_time": "2024-07-21T19:44:36.073Z"
   },
   {
    "duration": 17,
    "start_time": "2024-07-21T19:44:36.094Z"
   },
   {
    "duration": 791,
    "start_time": "2024-07-21T19:44:36.116Z"
   },
   {
    "duration": 0,
    "start_time": "2024-07-21T19:44:36.910Z"
   },
   {
    "duration": 0,
    "start_time": "2024-07-21T19:44:36.912Z"
   },
   {
    "duration": 0,
    "start_time": "2024-07-21T19:44:36.914Z"
   },
   {
    "duration": 0,
    "start_time": "2024-07-21T19:44:36.916Z"
   },
   {
    "duration": 0,
    "start_time": "2024-07-21T19:44:36.918Z"
   },
   {
    "duration": 1223,
    "start_time": "2024-07-21T19:45:01.552Z"
   },
   {
    "duration": 46,
    "start_time": "2024-07-21T19:45:02.779Z"
   },
   {
    "duration": 19,
    "start_time": "2024-07-21T19:45:02.828Z"
   },
   {
    "duration": 4,
    "start_time": "2024-07-21T19:45:02.851Z"
   },
   {
    "duration": 1327,
    "start_time": "2024-07-21T19:45:02.858Z"
   },
   {
    "duration": 0,
    "start_time": "2024-07-21T19:45:04.188Z"
   },
   {
    "duration": 0,
    "start_time": "2024-07-21T19:45:04.189Z"
   },
   {
    "duration": 0,
    "start_time": "2024-07-21T19:45:04.192Z"
   },
   {
    "duration": 0,
    "start_time": "2024-07-21T19:45:04.209Z"
   },
   {
    "duration": 0,
    "start_time": "2024-07-21T19:45:04.211Z"
   },
   {
    "duration": 3,
    "start_time": "2024-07-21T19:45:16.136Z"
   },
   {
    "duration": 80,
    "start_time": "2024-07-21T19:45:17.635Z"
   },
   {
    "duration": 38,
    "start_time": "2024-07-21T19:45:49.477Z"
   },
   {
    "duration": 24,
    "start_time": "2024-07-21T19:45:53.163Z"
   },
   {
    "duration": 1484,
    "start_time": "2024-07-21T19:46:06.404Z"
   },
   {
    "duration": 61,
    "start_time": "2024-07-21T19:46:07.892Z"
   },
   {
    "duration": 20,
    "start_time": "2024-07-21T19:46:07.957Z"
   },
   {
    "duration": 57,
    "start_time": "2024-07-21T19:46:07.982Z"
   },
   {
    "duration": 28,
    "start_time": "2024-07-21T19:46:08.043Z"
   },
   {
    "duration": 55,
    "start_time": "2024-07-21T19:46:08.075Z"
   },
   {
    "duration": 32,
    "start_time": "2024-07-21T19:46:08.133Z"
   },
   {
    "duration": 55,
    "start_time": "2024-07-21T19:46:08.168Z"
   },
   {
    "duration": 47,
    "start_time": "2024-07-21T19:46:08.226Z"
   },
   {
    "duration": 38,
    "start_time": "2024-07-21T19:46:08.279Z"
   },
   {
    "duration": 13,
    "start_time": "2024-07-21T19:53:41.503Z"
   },
   {
    "duration": 22,
    "start_time": "2024-07-21T19:53:53.488Z"
   },
   {
    "duration": 43,
    "start_time": "2024-07-21T19:54:11.258Z"
   },
   {
    "duration": 5,
    "start_time": "2024-07-21T19:55:19.486Z"
   },
   {
    "duration": 6,
    "start_time": "2024-07-21T20:00:57.867Z"
   },
   {
    "duration": 15,
    "start_time": "2024-07-21T20:01:04.279Z"
   },
   {
    "duration": 232,
    "start_time": "2024-07-21T20:01:48.195Z"
   },
   {
    "duration": 222,
    "start_time": "2024-07-21T20:01:59.970Z"
   },
   {
    "duration": 635,
    "start_time": "2024-07-21T20:02:10.534Z"
   },
   {
    "duration": 14,
    "start_time": "2024-07-21T20:02:20.711Z"
   },
   {
    "duration": 9,
    "start_time": "2024-07-21T20:02:45.415Z"
   },
   {
    "duration": 9,
    "start_time": "2024-07-21T20:02:53.631Z"
   },
   {
    "duration": 418,
    "start_time": "2024-07-21T20:03:06.559Z"
   },
   {
    "duration": 316,
    "start_time": "2024-07-21T20:03:13.742Z"
   },
   {
    "duration": 8,
    "start_time": "2024-07-21T20:03:21.630Z"
   },
   {
    "duration": 7,
    "start_time": "2024-07-21T20:04:19.304Z"
   },
   {
    "duration": 9,
    "start_time": "2024-07-21T20:04:25.186Z"
   },
   {
    "duration": 14,
    "start_time": "2024-07-21T20:04:36.334Z"
   },
   {
    "duration": 15,
    "start_time": "2024-07-21T20:05:37.345Z"
   },
   {
    "duration": 16,
    "start_time": "2024-07-21T20:06:59.850Z"
   },
   {
    "duration": 13,
    "start_time": "2024-07-21T20:07:51.647Z"
   },
   {
    "duration": 16,
    "start_time": "2024-07-21T20:08:09.507Z"
   },
   {
    "duration": 13,
    "start_time": "2024-07-21T20:08:37.587Z"
   },
   {
    "duration": 12,
    "start_time": "2024-07-21T20:08:41.819Z"
   },
   {
    "duration": 5,
    "start_time": "2024-07-21T20:08:54.215Z"
   },
   {
    "duration": 5,
    "start_time": "2024-07-21T20:08:57.412Z"
   },
   {
    "duration": 7,
    "start_time": "2024-07-21T20:09:01.440Z"
   },
   {
    "duration": 13,
    "start_time": "2024-07-21T20:09:08.095Z"
   },
   {
    "duration": 1255,
    "start_time": "2024-07-21T20:22:21.732Z"
   },
   {
    "duration": 50,
    "start_time": "2024-07-21T20:22:22.990Z"
   },
   {
    "duration": 19,
    "start_time": "2024-07-21T20:22:23.042Z"
   },
   {
    "duration": 53,
    "start_time": "2024-07-21T20:22:23.066Z"
   },
   {
    "duration": 25,
    "start_time": "2024-07-21T20:22:23.123Z"
   },
   {
    "duration": 57,
    "start_time": "2024-07-21T20:22:23.151Z"
   },
   {
    "duration": 29,
    "start_time": "2024-07-21T20:22:23.211Z"
   },
   {
    "duration": 23,
    "start_time": "2024-07-21T20:22:23.242Z"
   },
   {
    "duration": 70,
    "start_time": "2024-07-21T20:22:23.268Z"
   },
   {
    "duration": 7,
    "start_time": "2024-07-21T20:22:23.343Z"
   },
   {
    "duration": 515,
    "start_time": "2024-07-21T20:22:23.353Z"
   },
   {
    "duration": 26,
    "start_time": "2024-07-21T20:22:33.393Z"
   },
   {
    "duration": 26,
    "start_time": "2024-07-21T20:22:47.652Z"
   },
   {
    "duration": 7,
    "start_time": "2024-07-21T20:23:00.283Z"
   },
   {
    "duration": 17,
    "start_time": "2024-07-21T20:23:04.864Z"
   },
   {
    "duration": 17,
    "start_time": "2024-07-21T20:23:36.189Z"
   },
   {
    "duration": 27,
    "start_time": "2024-07-21T20:28:41.725Z"
   },
   {
    "duration": 1285,
    "start_time": "2024-07-21T20:28:57.545Z"
   },
   {
    "duration": 39,
    "start_time": "2024-07-21T20:28:58.833Z"
   },
   {
    "duration": 39,
    "start_time": "2024-07-21T20:28:58.875Z"
   },
   {
    "duration": 35,
    "start_time": "2024-07-21T20:28:58.918Z"
   },
   {
    "duration": 25,
    "start_time": "2024-07-21T20:28:58.956Z"
   },
   {
    "duration": 30,
    "start_time": "2024-07-21T20:28:59.008Z"
   },
   {
    "duration": 28,
    "start_time": "2024-07-21T20:28:59.041Z"
   },
   {
    "duration": 54,
    "start_time": "2024-07-21T20:28:59.072Z"
   },
   {
    "duration": 41,
    "start_time": "2024-07-21T20:28:59.129Z"
   },
   {
    "duration": 35,
    "start_time": "2024-07-21T20:28:59.175Z"
   },
   {
    "duration": 474,
    "start_time": "2024-07-21T20:28:59.213Z"
   },
   {
    "duration": 0,
    "start_time": "2024-07-21T20:28:59.690Z"
   },
   {
    "duration": 928,
    "start_time": "2024-07-21T20:29:21.028Z"
   },
   {
    "duration": 52,
    "start_time": "2024-07-21T20:29:42.771Z"
   },
   {
    "duration": 1297,
    "start_time": "2024-07-21T20:30:11.235Z"
   },
   {
    "duration": 40,
    "start_time": "2024-07-21T20:30:12.535Z"
   },
   {
    "duration": 35,
    "start_time": "2024-07-21T20:30:12.578Z"
   },
   {
    "duration": 43,
    "start_time": "2024-07-21T20:30:12.617Z"
   },
   {
    "duration": 64,
    "start_time": "2024-07-21T20:30:12.664Z"
   },
   {
    "duration": 41,
    "start_time": "2024-07-21T20:30:12.732Z"
   },
   {
    "duration": 62,
    "start_time": "2024-07-21T20:30:12.776Z"
   },
   {
    "duration": 28,
    "start_time": "2024-07-21T20:30:12.842Z"
   },
   {
    "duration": 70,
    "start_time": "2024-07-21T20:30:12.872Z"
   },
   {
    "duration": 7,
    "start_time": "2024-07-21T20:30:12.947Z"
   },
   {
    "duration": 248,
    "start_time": "2024-07-21T20:30:12.957Z"
   },
   {
    "duration": 0,
    "start_time": "2024-07-21T20:30:13.208Z"
   },
   {
    "duration": 35,
    "start_time": "2024-07-21T20:31:26.422Z"
   },
   {
    "duration": 4,
    "start_time": "2024-07-21T20:31:57.797Z"
   },
   {
    "duration": 4,
    "start_time": "2024-07-21T20:31:59.508Z"
   },
   {
    "duration": 17,
    "start_time": "2024-07-21T20:32:20.806Z"
   },
   {
    "duration": 20,
    "start_time": "2024-07-21T20:32:25.980Z"
   },
   {
    "duration": 20,
    "start_time": "2024-07-21T20:32:34.816Z"
   },
   {
    "duration": 37,
    "start_time": "2024-07-21T20:32:39.848Z"
   },
   {
    "duration": 49,
    "start_time": "2024-07-21T20:32:56.878Z"
   },
   {
    "duration": 49,
    "start_time": "2024-07-21T20:33:02.853Z"
   },
   {
    "duration": 16,
    "start_time": "2024-07-21T20:33:12.584Z"
   },
   {
    "duration": 16,
    "start_time": "2024-07-21T20:33:20.190Z"
   },
   {
    "duration": 16,
    "start_time": "2024-07-21T20:34:05.546Z"
   },
   {
    "duration": 12,
    "start_time": "2024-07-21T20:35:44.194Z"
   },
   {
    "duration": 990,
    "start_time": "2024-07-21T20:35:48.820Z"
   },
   {
    "duration": 12,
    "start_time": "2024-07-21T20:36:03.140Z"
   },
   {
    "duration": 31,
    "start_time": "2024-07-21T20:36:13.482Z"
   },
   {
    "duration": 27,
    "start_time": "2024-07-21T20:37:47.181Z"
   },
   {
    "duration": 11,
    "start_time": "2024-07-21T20:37:52.216Z"
   },
   {
    "duration": 10,
    "start_time": "2024-07-21T20:37:58.063Z"
   },
   {
    "duration": 35,
    "start_time": "2024-07-21T20:38:05.211Z"
   },
   {
    "duration": 28,
    "start_time": "2024-07-21T20:38:09.943Z"
   },
   {
    "duration": 15,
    "start_time": "2024-07-21T20:38:18.633Z"
   },
   {
    "duration": 9,
    "start_time": "2024-07-21T20:38:26.965Z"
   },
   {
    "duration": 4,
    "start_time": "2024-07-21T20:38:32.124Z"
   },
   {
    "duration": 7,
    "start_time": "2024-07-21T20:38:57.370Z"
   },
   {
    "duration": 28,
    "start_time": "2024-07-21T20:39:15.261Z"
   },
   {
    "duration": 6,
    "start_time": "2024-07-21T20:39:18.046Z"
   },
   {
    "duration": 6,
    "start_time": "2024-07-21T20:39:35.596Z"
   },
   {
    "duration": 4,
    "start_time": "2024-07-21T20:39:39.776Z"
   },
   {
    "duration": 6,
    "start_time": "2024-07-21T20:39:44.271Z"
   },
   {
    "duration": 31,
    "start_time": "2024-07-21T20:39:54.304Z"
   },
   {
    "duration": 4,
    "start_time": "2024-07-21T20:40:05.986Z"
   },
   {
    "duration": 7,
    "start_time": "2024-07-21T20:40:09.538Z"
   },
   {
    "duration": 24,
    "start_time": "2024-07-21T20:40:13.790Z"
   },
   {
    "duration": 24,
    "start_time": "2024-07-21T20:40:17.564Z"
   },
   {
    "duration": 33,
    "start_time": "2024-07-21T20:40:19.149Z"
   },
   {
    "duration": 1768,
    "start_time": "2024-07-21T20:40:30.509Z"
   },
   {
    "duration": 35,
    "start_time": "2024-07-21T20:40:45.425Z"
   },
   {
    "duration": 15,
    "start_time": "2024-07-21T20:40:51.125Z"
   },
   {
    "duration": 3,
    "start_time": "2024-07-21T20:41:10.229Z"
   },
   {
    "duration": 19,
    "start_time": "2024-07-21T20:41:13.347Z"
   },
   {
    "duration": 17,
    "start_time": "2024-07-21T20:41:50.797Z"
   },
   {
    "duration": 5,
    "start_time": "2024-07-21T20:44:51.064Z"
   },
   {
    "duration": 20,
    "start_time": "2024-07-21T20:46:31.376Z"
   },
   {
    "duration": 19,
    "start_time": "2024-07-21T20:46:40.085Z"
   },
   {
    "duration": 20,
    "start_time": "2024-07-21T20:46:44.862Z"
   },
   {
    "duration": 20,
    "start_time": "2024-07-21T20:46:55.058Z"
   },
   {
    "duration": 18,
    "start_time": "2024-07-21T20:47:39.554Z"
   },
   {
    "duration": 25,
    "start_time": "2024-07-21T20:47:50.374Z"
   },
   {
    "duration": 19,
    "start_time": "2024-07-21T20:48:14.506Z"
   },
   {
    "duration": 17,
    "start_time": "2024-07-21T20:48:24.117Z"
   },
   {
    "duration": 143,
    "start_time": "2024-07-21T20:48:34.357Z"
   },
   {
    "duration": 925,
    "start_time": "2024-07-21T20:48:36.613Z"
   },
   {
    "duration": 17,
    "start_time": "2024-07-21T20:48:44.478Z"
   },
   {
    "duration": 12,
    "start_time": "2024-07-21T20:49:03.321Z"
   },
   {
    "duration": 10,
    "start_time": "2024-07-21T20:49:37.813Z"
   },
   {
    "duration": 20,
    "start_time": "2024-07-21T20:49:42.324Z"
   },
   {
    "duration": 4,
    "start_time": "2024-07-21T20:50:42.439Z"
   },
   {
    "duration": 4,
    "start_time": "2024-07-21T20:50:46.452Z"
   },
   {
    "duration": 8,
    "start_time": "2024-07-21T20:50:48.419Z"
   },
   {
    "duration": 5,
    "start_time": "2024-07-21T20:53:20.025Z"
   },
   {
    "duration": 8,
    "start_time": "2024-07-21T20:53:25.695Z"
   },
   {
    "duration": 28,
    "start_time": "2024-07-21T20:53:29.221Z"
   },
   {
    "duration": 24,
    "start_time": "2024-07-21T20:53:46.311Z"
   },
   {
    "duration": 17,
    "start_time": "2024-07-21T20:54:02.767Z"
   },
   {
    "duration": 4,
    "start_time": "2024-07-21T20:54:51.126Z"
   },
   {
    "duration": 4,
    "start_time": "2024-07-21T20:54:57.380Z"
   },
   {
    "duration": 23,
    "start_time": "2024-07-21T20:55:06.923Z"
   },
   {
    "duration": 399,
    "start_time": "2024-07-21T20:57:31.370Z"
   },
   {
    "duration": 39,
    "start_time": "2024-07-21T20:57:44.784Z"
   },
   {
    "duration": 34,
    "start_time": "2024-07-21T20:59:55.552Z"
   },
   {
    "duration": 32,
    "start_time": "2024-07-21T21:00:22.052Z"
   },
   {
    "duration": 13,
    "start_time": "2024-07-21T21:03:49.564Z"
   },
   {
    "duration": 7,
    "start_time": "2024-07-21T21:03:52.874Z"
   },
   {
    "duration": 6,
    "start_time": "2024-07-21T21:03:55.225Z"
   },
   {
    "duration": 8,
    "start_time": "2024-07-21T21:04:06.042Z"
   },
   {
    "duration": 16,
    "start_time": "2024-07-21T21:04:09.255Z"
   },
   {
    "duration": 11,
    "start_time": "2024-07-21T21:08:12.962Z"
   },
   {
    "duration": 11,
    "start_time": "2024-07-21T21:08:21.186Z"
   },
   {
    "duration": 11,
    "start_time": "2024-07-21T21:09:02.755Z"
   },
   {
    "duration": 38,
    "start_time": "2024-07-21T21:10:31.957Z"
   },
   {
    "duration": 32,
    "start_time": "2024-07-21T21:13:08.945Z"
   },
   {
    "duration": 129,
    "start_time": "2024-07-21T21:13:38.517Z"
   },
   {
    "duration": 9,
    "start_time": "2024-07-21T21:13:56.410Z"
   },
   {
    "duration": 66,
    "start_time": "2024-07-21T21:14:28.021Z"
   },
   {
    "duration": 44,
    "start_time": "2024-07-21T21:14:45.378Z"
   },
   {
    "duration": 49,
    "start_time": "2024-07-21T21:14:57.639Z"
   },
   {
    "duration": 25,
    "start_time": "2024-07-21T21:15:55.608Z"
   },
   {
    "duration": 23,
    "start_time": "2024-07-21T21:16:23.087Z"
   },
   {
    "duration": 24,
    "start_time": "2024-07-21T21:17:56.150Z"
   },
   {
    "duration": 20,
    "start_time": "2024-07-21T21:18:21.899Z"
   },
   {
    "duration": 21,
    "start_time": "2024-07-21T21:21:06.800Z"
   },
   {
    "duration": 16,
    "start_time": "2024-07-21T21:22:13.049Z"
   },
   {
    "duration": 35,
    "start_time": "2024-07-21T21:49:15.029Z"
   },
   {
    "duration": 17,
    "start_time": "2024-07-21T21:49:39.905Z"
   },
   {
    "duration": 1314,
    "start_time": "2024-07-21T21:49:53.532Z"
   },
   {
    "duration": 41,
    "start_time": "2024-07-21T21:49:54.850Z"
   },
   {
    "duration": 40,
    "start_time": "2024-07-21T21:49:54.894Z"
   },
   {
    "duration": 34,
    "start_time": "2024-07-21T21:49:54.939Z"
   },
   {
    "duration": 57,
    "start_time": "2024-07-21T21:49:54.976Z"
   },
   {
    "duration": 3,
    "start_time": "2024-07-21T21:49:55.036Z"
   },
   {
    "duration": 1719,
    "start_time": "2024-07-21T21:49:55.042Z"
   },
   {
    "duration": 0,
    "start_time": "2024-07-21T21:49:56.765Z"
   },
   {
    "duration": 1,
    "start_time": "2024-07-21T21:49:56.767Z"
   },
   {
    "duration": 0,
    "start_time": "2024-07-21T21:49:56.770Z"
   },
   {
    "duration": 0,
    "start_time": "2024-07-21T21:49:56.772Z"
   },
   {
    "duration": 0,
    "start_time": "2024-07-21T21:49:56.775Z"
   },
   {
    "duration": 35,
    "start_time": "2024-07-21T21:52:52.116Z"
   },
   {
    "duration": 16,
    "start_time": "2024-07-21T21:54:19.184Z"
   },
   {
    "duration": 22,
    "start_time": "2024-07-21T21:54:23.974Z"
   },
   {
    "duration": 18,
    "start_time": "2024-07-21T21:54:59.661Z"
   },
   {
    "duration": 19,
    "start_time": "2024-07-21T21:55:17.593Z"
   },
   {
    "duration": 5,
    "start_time": "2024-07-21T22:00:59.707Z"
   },
   {
    "duration": 19,
    "start_time": "2024-07-21T22:01:18.369Z"
   },
   {
    "duration": 9,
    "start_time": "2024-07-21T22:01:23.657Z"
   },
   {
    "duration": 39,
    "start_time": "2024-07-21T22:01:23.670Z"
   },
   {
    "duration": 19,
    "start_time": "2024-07-21T22:01:23.712Z"
   },
   {
    "duration": 30,
    "start_time": "2024-07-21T22:01:23.735Z"
   },
   {
    "duration": 57,
    "start_time": "2024-07-21T22:01:23.768Z"
   },
   {
    "duration": 6,
    "start_time": "2024-07-21T22:01:23.829Z"
   },
   {
    "duration": 6,
    "start_time": "2024-07-21T22:01:26.202Z"
   },
   {
    "duration": 16,
    "start_time": "2024-07-21T22:01:28.401Z"
   },
   {
    "duration": 22,
    "start_time": "2024-07-21T22:01:36.471Z"
   },
   {
    "duration": 6,
    "start_time": "2024-07-21T22:01:45.077Z"
   },
   {
    "duration": 5,
    "start_time": "2024-07-21T22:01:57.049Z"
   },
   {
    "duration": 16,
    "start_time": "2024-07-21T22:01:59.102Z"
   },
   {
    "duration": 952,
    "start_time": "2024-07-21T22:02:37.383Z"
   },
   {
    "duration": 16,
    "start_time": "2024-07-21T22:02:59.586Z"
   },
   {
    "duration": 17,
    "start_time": "2024-07-21T22:03:01.151Z"
   },
   {
    "duration": 11,
    "start_time": "2024-07-21T22:03:44.536Z"
   },
   {
    "duration": 1228,
    "start_time": "2024-07-21T22:03:54.376Z"
   },
   {
    "duration": 38,
    "start_time": "2024-07-21T22:03:55.608Z"
   },
   {
    "duration": 17,
    "start_time": "2024-07-21T22:03:55.652Z"
   },
   {
    "duration": 54,
    "start_time": "2024-07-21T22:03:55.673Z"
   },
   {
    "duration": 23,
    "start_time": "2024-07-21T22:03:55.730Z"
   },
   {
    "duration": 11,
    "start_time": "2024-07-21T22:03:55.756Z"
   },
   {
    "duration": 48,
    "start_time": "2024-07-21T22:03:55.770Z"
   },
   {
    "duration": 1636,
    "start_time": "2024-07-21T22:03:55.821Z"
   },
   {
    "duration": 0,
    "start_time": "2024-07-21T22:03:57.460Z"
   },
   {
    "duration": 0,
    "start_time": "2024-07-21T22:03:57.462Z"
   },
   {
    "duration": 0,
    "start_time": "2024-07-21T22:03:57.464Z"
   },
   {
    "duration": 0,
    "start_time": "2024-07-21T22:03:57.466Z"
   },
   {
    "duration": 0,
    "start_time": "2024-07-21T22:03:57.468Z"
   },
   {
    "duration": 5678,
    "start_time": "2024-07-21T22:06:00.408Z"
   },
   {
    "duration": 18,
    "start_time": "2024-07-21T22:06:08.191Z"
   },
   {
    "duration": 103,
    "start_time": "2024-07-21T22:06:16.450Z"
   },
   {
    "duration": 25,
    "start_time": "2024-07-21T22:06:45.854Z"
   },
   {
    "duration": 17,
    "start_time": "2024-07-21T22:06:49.592Z"
   },
   {
    "duration": 27,
    "start_time": "2024-07-21T22:07:14.248Z"
   },
   {
    "duration": 3761,
    "start_time": "2024-07-21T22:08:44.654Z"
   },
   {
    "duration": 21,
    "start_time": "2024-07-21T22:09:00.159Z"
   },
   {
    "duration": 19,
    "start_time": "2024-07-21T22:09:01.653Z"
   },
   {
    "duration": 10,
    "start_time": "2024-07-21T22:09:03.026Z"
   },
   {
    "duration": 3695,
    "start_time": "2024-07-21T22:09:05.861Z"
   },
   {
    "duration": 22,
    "start_time": "2024-07-21T22:09:09.559Z"
   },
   {
    "duration": 39,
    "start_time": "2024-07-21T22:09:09.583Z"
   },
   {
    "duration": 26,
    "start_time": "2024-07-21T22:09:17.412Z"
   },
   {
    "duration": 21,
    "start_time": "2024-07-21T22:09:24.015Z"
   },
   {
    "duration": 9523,
    "start_time": "2024-07-21T22:10:40.245Z"
   },
   {
    "duration": 9367,
    "start_time": "2024-07-21T22:11:15.602Z"
   },
   {
    "duration": 34,
    "start_time": "2024-07-21T22:14:02.060Z"
   },
   {
    "duration": 4,
    "start_time": "2024-07-21T22:14:09.235Z"
   },
   {
    "duration": 37,
    "start_time": "2024-07-21T22:14:09.243Z"
   },
   {
    "duration": 18,
    "start_time": "2024-07-21T22:14:09.283Z"
   },
   {
    "duration": 32,
    "start_time": "2024-07-21T22:14:09.304Z"
   },
   {
    "duration": 23,
    "start_time": "2024-07-21T22:14:09.340Z"
   },
   {
    "duration": 43,
    "start_time": "2024-07-21T22:14:09.365Z"
   },
   {
    "duration": 9386,
    "start_time": "2024-07-21T22:14:09.411Z"
   },
   {
    "duration": 25,
    "start_time": "2024-07-21T22:14:18.800Z"
   },
   {
    "duration": 28,
    "start_time": "2024-07-21T22:14:18.828Z"
   },
   {
    "duration": 53,
    "start_time": "2024-07-21T22:14:18.859Z"
   },
   {
    "duration": 32,
    "start_time": "2024-07-21T22:14:24.291Z"
   },
   {
    "duration": 4,
    "start_time": "2024-07-21T22:15:03.037Z"
   },
   {
    "duration": 32,
    "start_time": "2024-07-21T22:16:15.429Z"
   },
   {
    "duration": 19,
    "start_time": "2024-07-21T22:16:22.874Z"
   },
   {
    "duration": 3,
    "start_time": "2024-07-21T22:17:00.679Z"
   },
   {
    "duration": 4,
    "start_time": "2024-07-21T22:17:26.758Z"
   },
   {
    "duration": 6,
    "start_time": "2024-07-21T22:17:29.167Z"
   },
   {
    "duration": 16,
    "start_time": "2024-07-21T22:17:30.335Z"
   },
   {
    "duration": 20,
    "start_time": "2024-07-21T22:17:33.786Z"
   },
   {
    "duration": 23,
    "start_time": "2024-07-21T22:17:36.016Z"
   },
   {
    "duration": 6,
    "start_time": "2024-07-21T22:17:58.167Z"
   },
   {
    "duration": 17,
    "start_time": "2024-07-21T22:18:10.998Z"
   },
   {
    "duration": 28,
    "start_time": "2024-07-21T22:20:00.895Z"
   },
   {
    "duration": 21,
    "start_time": "2024-07-21T22:20:03.136Z"
   },
   {
    "duration": 21,
    "start_time": "2024-07-21T22:20:10.781Z"
   },
   {
    "duration": 7,
    "start_time": "2024-07-21T22:40:49.982Z"
   },
   {
    "duration": 8,
    "start_time": "2024-07-21T22:40:54.033Z"
   },
   {
    "duration": 54,
    "start_time": "2024-07-21T22:41:13.448Z"
   },
   {
    "duration": 38,
    "start_time": "2024-07-21T22:42:22.145Z"
   },
   {
    "duration": 3,
    "start_time": "2024-07-21T22:46:15.148Z"
   },
   {
    "duration": 816,
    "start_time": "2024-07-21T22:46:59.210Z"
   },
   {
    "duration": 990,
    "start_time": "2024-07-21T22:51:27.897Z"
   },
   {
    "duration": 995,
    "start_time": "2024-07-21T22:51:36.419Z"
   },
   {
    "duration": 31,
    "start_time": "2024-07-21T22:54:08.893Z"
   },
   {
    "duration": 591,
    "start_time": "2024-07-21T22:57:21.676Z"
   },
   {
    "duration": 667,
    "start_time": "2024-07-21T22:59:08.440Z"
   },
   {
    "duration": 638,
    "start_time": "2024-07-21T22:59:27.137Z"
   },
   {
    "duration": 592,
    "start_time": "2024-07-21T22:59:47.535Z"
   },
   {
    "duration": 615,
    "start_time": "2024-07-21T23:00:07.099Z"
   },
   {
    "duration": 805,
    "start_time": "2024-07-21T23:01:49.890Z"
   },
   {
    "duration": 626,
    "start_time": "2024-07-21T23:06:01.018Z"
   },
   {
    "duration": 602,
    "start_time": "2024-07-21T23:06:25.885Z"
   },
   {
    "duration": 518,
    "start_time": "2024-07-21T23:08:14.602Z"
   },
   {
    "duration": 568,
    "start_time": "2024-07-21T23:08:28.518Z"
   },
   {
    "duration": 360,
    "start_time": "2024-07-21T23:20:48.337Z"
   },
   {
    "duration": 332,
    "start_time": "2024-07-21T23:23:38.616Z"
   },
   {
    "duration": 38,
    "start_time": "2024-07-21T23:31:44.142Z"
   },
   {
    "duration": 37,
    "start_time": "2024-07-21T23:33:40.841Z"
   },
   {
    "duration": 34,
    "start_time": "2024-07-21T23:42:01.854Z"
   },
   {
    "duration": 67,
    "start_time": "2024-07-21T23:42:16.878Z"
   },
   {
    "duration": 36,
    "start_time": "2024-07-21T23:42:54.059Z"
   },
   {
    "duration": 783,
    "start_time": "2024-07-21T23:43:20.291Z"
   },
   {
    "duration": 41,
    "start_time": "2024-07-21T23:43:49.761Z"
   },
   {
    "duration": 37,
    "start_time": "2024-07-21T23:44:40.846Z"
   },
   {
    "duration": 37,
    "start_time": "2024-07-21T23:46:09.870Z"
   },
   {
    "duration": 40,
    "start_time": "2024-07-21T23:46:42.748Z"
   },
   {
    "duration": 102,
    "start_time": "2024-07-21T23:46:49.378Z"
   },
   {
    "duration": 36,
    "start_time": "2024-07-21T23:47:08.200Z"
   },
   {
    "duration": 32,
    "start_time": "2024-07-21T23:47:10.560Z"
   },
   {
    "duration": 15,
    "start_time": "2024-07-21T23:52:19.997Z"
   },
   {
    "duration": 15,
    "start_time": "2024-07-21T23:53:41.545Z"
   },
   {
    "duration": 16,
    "start_time": "2024-07-21T23:57:13.261Z"
   },
   {
    "duration": 49,
    "start_time": "2024-07-22T00:00:30.599Z"
   },
   {
    "duration": 3,
    "start_time": "2024-07-22T00:00:49.005Z"
   },
   {
    "duration": 14,
    "start_time": "2024-07-22T00:01:43.359Z"
   },
   {
    "duration": 9479,
    "start_time": "2024-07-22T00:06:03.093Z"
   },
   {
    "duration": 3,
    "start_time": "2024-07-22T00:06:12.576Z"
   },
   {
    "duration": 46,
    "start_time": "2024-07-22T00:06:12.583Z"
   },
   {
    "duration": 18,
    "start_time": "2024-07-22T00:06:12.633Z"
   },
   {
    "duration": 56,
    "start_time": "2024-07-22T00:06:12.653Z"
   },
   {
    "duration": 35,
    "start_time": "2024-07-22T00:06:12.713Z"
   },
   {
    "duration": 5,
    "start_time": "2024-07-22T00:06:12.752Z"
   },
   {
    "duration": 10,
    "start_time": "2024-07-22T00:06:12.759Z"
   },
   {
    "duration": 6,
    "start_time": "2024-07-22T00:06:27.313Z"
   },
   {
    "duration": 59,
    "start_time": "2024-07-22T00:06:27.323Z"
   },
   {
    "duration": 24,
    "start_time": "2024-07-22T00:06:27.385Z"
   },
   {
    "duration": 32,
    "start_time": "2024-07-22T00:06:27.414Z"
   },
   {
    "duration": 27,
    "start_time": "2024-07-22T00:06:27.453Z"
   },
   {
    "duration": 27,
    "start_time": "2024-07-22T00:06:27.484Z"
   },
   {
    "duration": 5,
    "start_time": "2024-07-22T00:06:29.934Z"
   },
   {
    "duration": 6504,
    "start_time": "2024-07-22T00:06:34.045Z"
   },
   {
    "duration": 7,
    "start_time": "2024-07-22T00:06:44.591Z"
   },
   {
    "duration": 42,
    "start_time": "2024-07-22T00:06:44.604Z"
   },
   {
    "duration": 17,
    "start_time": "2024-07-22T00:06:44.652Z"
   },
   {
    "duration": 43,
    "start_time": "2024-07-22T00:06:44.671Z"
   },
   {
    "duration": 24,
    "start_time": "2024-07-22T00:06:44.718Z"
   },
   {
    "duration": 6,
    "start_time": "2024-07-22T00:06:44.745Z"
   },
   {
    "duration": 4,
    "start_time": "2024-07-22T00:06:44.754Z"
   },
   {
    "duration": 5936,
    "start_time": "2024-07-22T00:06:49.324Z"
   },
   {
    "duration": 4,
    "start_time": "2024-07-22T00:07:08.919Z"
   },
   {
    "duration": 5837,
    "start_time": "2024-07-22T00:07:13.009Z"
   },
   {
    "duration": 32,
    "start_time": "2024-07-22T00:07:44.410Z"
   },
   {
    "duration": 9636,
    "start_time": "2024-07-22T00:07:47.274Z"
   },
   {
    "duration": 9464,
    "start_time": "2024-07-22T00:09:06.891Z"
   },
   {
    "duration": 32,
    "start_time": "2024-07-22T00:11:23.859Z"
   },
   {
    "duration": 7,
    "start_time": "2024-07-22T00:11:36.561Z"
   },
   {
    "duration": 28,
    "start_time": "2024-07-22T00:11:40.026Z"
   },
   {
    "duration": 80,
    "start_time": "2024-07-22T00:15:38.950Z"
   },
   {
    "duration": 18,
    "start_time": "2024-07-22T00:16:48.121Z"
   },
   {
    "duration": 18,
    "start_time": "2024-07-22T00:18:13.749Z"
   },
   {
    "duration": 548,
    "start_time": "2024-07-22T00:18:48.317Z"
   },
   {
    "duration": 15,
    "start_time": "2024-07-22T00:19:45.662Z"
   },
   {
    "duration": 5,
    "start_time": "2024-07-22T00:20:18.619Z"
   },
   {
    "duration": 47,
    "start_time": "2024-07-22T00:22:06.226Z"
   },
   {
    "duration": 16,
    "start_time": "2024-07-22T00:23:14.821Z"
   },
   {
    "duration": 15,
    "start_time": "2024-07-22T00:25:51.938Z"
   },
   {
    "duration": 764,
    "start_time": "2024-07-22T00:28:38.822Z"
   },
   {
    "duration": 222,
    "start_time": "2024-07-22T00:29:20.595Z"
   },
   {
    "duration": 4,
    "start_time": "2024-07-22T00:29:24.967Z"
   },
   {
    "duration": 38,
    "start_time": "2024-07-22T00:29:24.975Z"
   },
   {
    "duration": 19,
    "start_time": "2024-07-22T00:29:25.016Z"
   },
   {
    "duration": 31,
    "start_time": "2024-07-22T00:29:25.039Z"
   },
   {
    "duration": 56,
    "start_time": "2024-07-22T00:29:25.073Z"
   },
   {
    "duration": 35,
    "start_time": "2024-07-22T00:29:25.132Z"
   },
   {
    "duration": 4,
    "start_time": "2024-07-22T00:29:25.170Z"
   },
   {
    "duration": 9587,
    "start_time": "2024-07-22T00:29:25.177Z"
   },
   {
    "duration": 19,
    "start_time": "2024-07-22T00:29:34.770Z"
   },
   {
    "duration": 35,
    "start_time": "2024-07-22T00:29:34.810Z"
   },
   {
    "duration": 21,
    "start_time": "2024-07-22T00:29:34.848Z"
   },
   {
    "duration": 4,
    "start_time": "2024-07-22T00:29:34.872Z"
   },
   {
    "duration": 37,
    "start_time": "2024-07-22T00:29:34.908Z"
   },
   {
    "duration": 17,
    "start_time": "2024-07-22T00:29:34.947Z"
   },
   {
    "duration": 57,
    "start_time": "2024-07-22T00:29:34.967Z"
   },
   {
    "duration": 17,
    "start_time": "2024-07-22T00:29:35.027Z"
   },
   {
    "duration": 69,
    "start_time": "2024-07-22T00:29:35.046Z"
   },
   {
    "duration": 799,
    "start_time": "2024-07-22T00:29:35.119Z"
   },
   {
    "duration": 1897,
    "start_time": "2024-07-22T00:29:35.921Z"
   },
   {
    "duration": 0,
    "start_time": "2024-07-22T00:29:37.822Z"
   },
   {
    "duration": 0,
    "start_time": "2024-07-22T00:29:37.824Z"
   },
   {
    "duration": 0,
    "start_time": "2024-07-22T00:29:37.826Z"
   },
   {
    "duration": 0,
    "start_time": "2024-07-22T00:29:37.828Z"
   },
   {
    "duration": 0,
    "start_time": "2024-07-22T00:29:37.831Z"
   },
   {
    "duration": 0,
    "start_time": "2024-07-22T00:29:37.833Z"
   },
   {
    "duration": 1282,
    "start_time": "2024-07-22T00:29:57.830Z"
   },
   {
    "duration": 38,
    "start_time": "2024-07-22T00:29:59.116Z"
   },
   {
    "duration": 20,
    "start_time": "2024-07-22T00:29:59.156Z"
   },
   {
    "duration": 56,
    "start_time": "2024-07-22T00:29:59.179Z"
   },
   {
    "duration": 23,
    "start_time": "2024-07-22T00:29:59.239Z"
   },
   {
    "duration": 63,
    "start_time": "2024-07-22T00:29:59.265Z"
   },
   {
    "duration": 3,
    "start_time": "2024-07-22T00:29:59.332Z"
   },
   {
    "duration": 9402,
    "start_time": "2024-07-22T00:29:59.338Z"
   },
   {
    "duration": 23,
    "start_time": "2024-07-22T00:30:08.744Z"
   },
   {
    "duration": 55,
    "start_time": "2024-07-22T00:30:08.770Z"
   },
   {
    "duration": 23,
    "start_time": "2024-07-22T00:30:08.828Z"
   },
   {
    "duration": 5,
    "start_time": "2024-07-22T00:30:08.854Z"
   },
   {
    "duration": 69,
    "start_time": "2024-07-22T00:30:08.862Z"
   },
   {
    "duration": 16,
    "start_time": "2024-07-22T00:30:08.940Z"
   },
   {
    "duration": 50,
    "start_time": "2024-07-22T00:30:08.960Z"
   },
   {
    "duration": 22,
    "start_time": "2024-07-22T00:30:09.014Z"
   },
   {
    "duration": 81,
    "start_time": "2024-07-22T00:30:09.039Z"
   },
   {
    "duration": 892,
    "start_time": "2024-07-22T00:30:09.124Z"
   },
   {
    "duration": 2663,
    "start_time": "2024-07-22T00:30:10.019Z"
   },
   {
    "duration": 0,
    "start_time": "2024-07-22T00:30:12.685Z"
   },
   {
    "duration": 0,
    "start_time": "2024-07-22T00:30:12.686Z"
   },
   {
    "duration": 0,
    "start_time": "2024-07-22T00:30:12.688Z"
   },
   {
    "duration": 0,
    "start_time": "2024-07-22T00:30:12.691Z"
   },
   {
    "duration": 0,
    "start_time": "2024-07-22T00:30:12.693Z"
   },
   {
    "duration": 0,
    "start_time": "2024-07-22T00:30:12.713Z"
   },
   {
    "duration": 0,
    "start_time": "2024-07-22T00:30:12.716Z"
   },
   {
    "duration": 35,
    "start_time": "2024-07-22T00:31:39.528Z"
   },
   {
    "duration": 4,
    "start_time": "2024-07-22T00:31:49.687Z"
   },
   {
    "duration": 43,
    "start_time": "2024-07-22T00:31:49.695Z"
   },
   {
    "duration": 19,
    "start_time": "2024-07-22T00:31:49.741Z"
   },
   {
    "duration": 61,
    "start_time": "2024-07-22T00:31:49.763Z"
   },
   {
    "duration": 22,
    "start_time": "2024-07-22T00:31:49.829Z"
   },
   {
    "duration": 56,
    "start_time": "2024-07-22T00:31:49.855Z"
   },
   {
    "duration": 9473,
    "start_time": "2024-07-22T00:31:49.915Z"
   },
   {
    "duration": 29,
    "start_time": "2024-07-22T00:31:59.391Z"
   },
   {
    "duration": 29,
    "start_time": "2024-07-22T00:31:59.422Z"
   },
   {
    "duration": 54,
    "start_time": "2024-07-22T00:31:59.454Z"
   },
   {
    "duration": 34,
    "start_time": "2024-07-22T00:31:59.511Z"
   },
   {
    "duration": 33,
    "start_time": "2024-07-22T00:31:59.548Z"
   },
   {
    "duration": 19,
    "start_time": "2024-07-22T00:31:59.612Z"
   },
   {
    "duration": 27,
    "start_time": "2024-07-22T00:31:59.640Z"
   },
   {
    "duration": 48,
    "start_time": "2024-07-22T00:31:59.670Z"
   },
   {
    "duration": 43,
    "start_time": "2024-07-22T00:31:59.720Z"
   },
   {
    "duration": 846,
    "start_time": "2024-07-22T00:31:59.766Z"
   },
   {
    "duration": 593,
    "start_time": "2024-07-22T00:32:00.615Z"
   },
   {
    "duration": 579,
    "start_time": "2024-07-22T00:32:01.211Z"
   },
   {
    "duration": 345,
    "start_time": "2024-07-22T00:32:01.793Z"
   },
   {
    "duration": 38,
    "start_time": "2024-07-22T00:32:02.141Z"
   },
   {
    "duration": 61,
    "start_time": "2024-07-22T00:32:02.183Z"
   },
   {
    "duration": 18,
    "start_time": "2024-07-22T00:32:02.247Z"
   },
   {
    "duration": 108,
    "start_time": "2024-07-22T00:32:02.268Z"
   },
   {
    "duration": 0,
    "start_time": "2024-07-22T00:32:02.379Z"
   },
   {
    "duration": 53,
    "start_time": "2024-07-22T00:32:27.688Z"
   },
   {
    "duration": 4,
    "start_time": "2024-07-22T00:33:01.426Z"
   },
   {
    "duration": 15,
    "start_time": "2024-07-22T00:33:07.071Z"
   },
   {
    "duration": 64,
    "start_time": "2024-07-22T00:33:35.518Z"
   },
   {
    "duration": 68,
    "start_time": "2024-07-22T00:35:58.056Z"
   },
   {
    "duration": 66,
    "start_time": "2024-07-22T00:36:03.687Z"
   },
   {
    "duration": 79,
    "start_time": "2024-07-22T00:36:09.655Z"
   },
   {
    "duration": 4,
    "start_time": "2024-07-22T00:37:01.250Z"
   },
   {
    "duration": 15,
    "start_time": "2024-07-22T00:44:18.405Z"
   },
   {
    "duration": 16,
    "start_time": "2024-07-22T00:44:41.422Z"
   },
   {
    "duration": 17,
    "start_time": "2024-07-22T00:45:16.409Z"
   },
   {
    "duration": 11,
    "start_time": "2024-07-22T00:45:28.810Z"
   },
   {
    "duration": 7,
    "start_time": "2024-07-22T00:45:44.403Z"
   },
   {
    "duration": 12,
    "start_time": "2024-07-22T00:45:48.192Z"
   },
   {
    "duration": 7,
    "start_time": "2024-07-22T00:47:40.581Z"
   },
   {
    "duration": 7,
    "start_time": "2024-07-22T00:47:42.383Z"
   },
   {
    "duration": 8,
    "start_time": "2024-07-22T00:47:43.747Z"
   },
   {
    "duration": 13,
    "start_time": "2024-07-22T00:47:46.308Z"
   },
   {
    "duration": 12,
    "start_time": "2024-07-22T00:47:47.987Z"
   },
   {
    "duration": 1300,
    "start_time": "2024-07-22T01:14:04.138Z"
   },
   {
    "duration": 50,
    "start_time": "2024-07-22T01:14:05.442Z"
   },
   {
    "duration": 33,
    "start_time": "2024-07-22T01:14:05.495Z"
   },
   {
    "duration": 40,
    "start_time": "2024-07-22T01:14:05.533Z"
   },
   {
    "duration": 53,
    "start_time": "2024-07-22T01:14:05.575Z"
   },
   {
    "duration": 35,
    "start_time": "2024-07-22T01:14:05.631Z"
   },
   {
    "duration": 9406,
    "start_time": "2024-07-22T01:14:05.669Z"
   },
   {
    "duration": 32,
    "start_time": "2024-07-22T01:14:15.077Z"
   },
   {
    "duration": 30,
    "start_time": "2024-07-22T01:14:15.112Z"
   },
   {
    "duration": 22,
    "start_time": "2024-07-22T01:14:15.148Z"
   },
   {
    "duration": 61,
    "start_time": "2024-07-22T01:14:15.173Z"
   },
   {
    "duration": 31,
    "start_time": "2024-07-22T01:14:15.239Z"
   },
   {
    "duration": 40,
    "start_time": "2024-07-22T01:14:15.273Z"
   },
   {
    "duration": 22,
    "start_time": "2024-07-22T01:14:15.316Z"
   },
   {
    "duration": 16,
    "start_time": "2024-07-22T01:14:15.343Z"
   },
   {
    "duration": 77,
    "start_time": "2024-07-22T01:14:15.362Z"
   },
   {
    "duration": 887,
    "start_time": "2024-07-22T01:14:15.442Z"
   },
   {
    "duration": 616,
    "start_time": "2024-07-22T01:14:16.332Z"
   },
   {
    "duration": 626,
    "start_time": "2024-07-22T01:14:16.952Z"
   },
   {
    "duration": 353,
    "start_time": "2024-07-22T01:14:17.581Z"
   },
   {
    "duration": 40,
    "start_time": "2024-07-22T01:14:17.938Z"
   },
   {
    "duration": 55,
    "start_time": "2024-07-22T01:14:17.981Z"
   },
   {
    "duration": 17,
    "start_time": "2024-07-22T01:14:18.039Z"
   },
   {
    "duration": 8,
    "start_time": "2024-07-22T01:14:18.059Z"
   },
   {
    "duration": 48,
    "start_time": "2024-07-22T01:14:18.070Z"
   },
   {
    "duration": 13,
    "start_time": "2024-07-22T01:14:18.120Z"
   },
   {
    "duration": 4922,
    "start_time": "2024-07-22T21:54:56.550Z"
   },
   {
    "duration": 56,
    "start_time": "2024-07-22T21:55:01.476Z"
   },
   {
    "duration": 19,
    "start_time": "2024-07-22T21:55:01.535Z"
   },
   {
    "duration": 34,
    "start_time": "2024-07-22T21:55:01.556Z"
   },
   {
    "duration": 56,
    "start_time": "2024-07-22T21:55:01.595Z"
   },
   {
    "duration": 37,
    "start_time": "2024-07-22T21:55:01.654Z"
   },
   {
    "duration": 9425,
    "start_time": "2024-07-22T21:55:01.694Z"
   },
   {
    "duration": 28,
    "start_time": "2024-07-22T21:55:11.121Z"
   },
   {
    "duration": 28,
    "start_time": "2024-07-22T21:55:11.152Z"
   },
   {
    "duration": 51,
    "start_time": "2024-07-22T21:55:11.183Z"
   },
   {
    "duration": 31,
    "start_time": "2024-07-22T21:55:11.237Z"
   },
   {
    "duration": 33,
    "start_time": "2024-07-22T21:55:11.271Z"
   },
   {
    "duration": 875,
    "start_time": "2024-07-22T22:00:01.027Z"
   },
   {
    "duration": 103,
    "start_time": "2024-07-22T22:00:32.043Z"
   },
   {
    "duration": 5,
    "start_time": "2024-07-22T22:00:42.535Z"
   },
   {
    "duration": 40,
    "start_time": "2024-07-22T22:00:42.544Z"
   },
   {
    "duration": 18,
    "start_time": "2024-07-22T22:00:42.587Z"
   },
   {
    "duration": 31,
    "start_time": "2024-07-22T22:00:42.636Z"
   },
   {
    "duration": 23,
    "start_time": "2024-07-22T22:00:42.671Z"
   },
   {
    "duration": 61,
    "start_time": "2024-07-22T22:00:42.697Z"
   },
   {
    "duration": 9581,
    "start_time": "2024-07-22T22:00:42.761Z"
   },
   {
    "duration": 18,
    "start_time": "2024-07-22T22:00:52.344Z"
   },
   {
    "duration": 28,
    "start_time": "2024-07-22T22:00:52.367Z"
   },
   {
    "duration": 55,
    "start_time": "2024-07-22T22:00:52.398Z"
   },
   {
    "duration": 34,
    "start_time": "2024-07-22T22:00:52.456Z"
   },
   {
    "duration": 63,
    "start_time": "2024-07-22T22:00:52.493Z"
   },
   {
    "duration": 16,
    "start_time": "2024-07-22T22:02:31.564Z"
   },
   {
    "duration": 16,
    "start_time": "2024-07-22T22:02:37.746Z"
   },
   {
    "duration": 100,
    "start_time": "2024-07-22T22:02:45.024Z"
   },
   {
    "duration": 5,
    "start_time": "2024-07-22T22:02:49.823Z"
   },
   {
    "duration": 102,
    "start_time": "2024-07-22T22:03:08.081Z"
   },
   {
    "duration": 92,
    "start_time": "2024-07-22T22:04:14.187Z"
   },
   {
    "duration": 87,
    "start_time": "2024-07-22T22:04:33.191Z"
   },
   {
    "duration": 38,
    "start_time": "2024-07-22T22:04:45.437Z"
   },
   {
    "duration": 38,
    "start_time": "2024-07-22T22:05:06.147Z"
   },
   {
    "duration": 40,
    "start_time": "2024-07-22T22:05:13.630Z"
   },
   {
    "duration": 93,
    "start_time": "2024-07-22T22:05:21.774Z"
   },
   {
    "duration": 372,
    "start_time": "2024-07-22T22:06:25.156Z"
   },
   {
    "duration": 95,
    "start_time": "2024-07-22T22:06:40.310Z"
   },
   {
    "duration": 536,
    "start_time": "2024-07-22T22:07:08.114Z"
   },
   {
    "duration": 610,
    "start_time": "2024-07-22T22:07:15.412Z"
   },
   {
    "duration": 33,
    "start_time": "2024-07-22T22:07:29.396Z"
   },
   {
    "duration": 550,
    "start_time": "2024-07-22T22:07:39.747Z"
   },
   {
    "duration": 570,
    "start_time": "2024-07-22T22:07:47.014Z"
   },
   {
    "duration": 554,
    "start_time": "2024-07-22T22:08:17.683Z"
   },
   {
    "duration": 557,
    "start_time": "2024-07-22T22:08:48.462Z"
   },
   {
    "duration": 13,
    "start_time": "2024-07-22T22:10:59.030Z"
   },
   {
    "duration": 149,
    "start_time": "2024-07-22T22:11:07.175Z"
   },
   {
    "duration": 339,
    "start_time": "2024-07-22T22:11:57.523Z"
   },
   {
    "duration": 125,
    "start_time": "2024-07-22T22:12:10.134Z"
   },
   {
    "duration": 116,
    "start_time": "2024-07-22T22:12:38.512Z"
   },
   {
    "duration": 144,
    "start_time": "2024-07-22T22:14:20.467Z"
   },
   {
    "duration": 639,
    "start_time": "2024-07-22T22:15:11.944Z"
   },
   {
    "duration": 64,
    "start_time": "2024-07-22T22:16:17.999Z"
   },
   {
    "duration": 129,
    "start_time": "2024-07-22T22:16:56.781Z"
   },
   {
    "duration": 170,
    "start_time": "2024-07-22T22:17:24.241Z"
   },
   {
    "duration": 166,
    "start_time": "2024-07-22T22:18:33.883Z"
   },
   {
    "duration": 0,
    "start_time": "2024-07-22T22:19:50.965Z"
   },
   {
    "duration": 116,
    "start_time": "2024-07-22T22:19:55.750Z"
   },
   {
    "duration": 120,
    "start_time": "2024-07-22T22:20:54.497Z"
   },
   {
    "duration": 580,
    "start_time": "2024-07-22T22:21:33.971Z"
   },
   {
    "duration": 644,
    "start_time": "2024-07-22T22:23:27.456Z"
   },
   {
    "duration": 4,
    "start_time": "2024-07-22T22:40:38.189Z"
   },
   {
    "duration": 37,
    "start_time": "2024-07-22T22:40:38.197Z"
   },
   {
    "duration": 19,
    "start_time": "2024-07-22T22:40:38.238Z"
   },
   {
    "duration": 30,
    "start_time": "2024-07-22T22:40:38.259Z"
   },
   {
    "duration": 66,
    "start_time": "2024-07-22T22:40:38.293Z"
   },
   {
    "duration": 35,
    "start_time": "2024-07-22T22:40:38.363Z"
   },
   {
    "duration": 9572,
    "start_time": "2024-07-22T22:40:38.401Z"
   },
   {
    "duration": 17,
    "start_time": "2024-07-22T22:40:47.976Z"
   },
   {
    "duration": 50,
    "start_time": "2024-07-22T22:40:47.996Z"
   },
   {
    "duration": 23,
    "start_time": "2024-07-22T22:40:48.048Z"
   },
   {
    "duration": 66,
    "start_time": "2024-07-22T22:40:48.077Z"
   },
   {
    "duration": 32,
    "start_time": "2024-07-22T22:40:48.146Z"
   },
   {
    "duration": 614,
    "start_time": "2024-07-22T22:40:48.181Z"
   },
   {
    "duration": 589,
    "start_time": "2024-07-22T22:40:48.798Z"
   },
   {
    "duration": 17,
    "start_time": "2024-07-22T22:40:49.390Z"
   },
   {
    "duration": 61,
    "start_time": "2024-07-22T22:40:49.410Z"
   },
   {
    "duration": 585,
    "start_time": "2024-07-22T22:40:49.474Z"
   },
   {
    "duration": 665,
    "start_time": "2024-07-22T22:40:50.062Z"
   },
   {
    "duration": 632,
    "start_time": "2024-07-22T22:40:50.733Z"
   },
   {
    "duration": 387,
    "start_time": "2024-07-22T22:40:51.368Z"
   },
   {
    "duration": 38,
    "start_time": "2024-07-22T22:40:51.757Z"
   },
   {
    "duration": 61,
    "start_time": "2024-07-22T22:40:51.798Z"
   },
   {
    "duration": 17,
    "start_time": "2024-07-22T22:40:51.862Z"
   },
   {
    "duration": 10,
    "start_time": "2024-07-22T22:40:51.883Z"
   },
   {
    "duration": 45,
    "start_time": "2024-07-22T22:40:51.897Z"
   },
   {
    "duration": 11,
    "start_time": "2024-07-22T22:40:54.579Z"
   },
   {
    "duration": 805,
    "start_time": "2024-07-22T23:02:54.529Z"
   },
   {
    "duration": 834,
    "start_time": "2024-07-22T23:03:25.446Z"
   },
   {
    "duration": 1855,
    "start_time": "2024-07-22T23:04:53.811Z"
   },
   {
    "duration": 806,
    "start_time": "2024-07-22T23:05:24.412Z"
   },
   {
    "duration": 708,
    "start_time": "2024-07-22T23:05:55.557Z"
   },
   {
    "duration": 692,
    "start_time": "2024-07-22T23:06:32.171Z"
   },
   {
    "duration": 1252,
    "start_time": "2024-07-22T23:06:47.370Z"
   },
   {
    "duration": 686,
    "start_time": "2024-07-22T23:06:59.808Z"
   },
   {
    "duration": 686,
    "start_time": "2024-07-22T23:07:09.735Z"
   }
  ],
  "kernelspec": {
   "display_name": "Python 3 (ipykernel)",
   "language": "python",
   "name": "python3"
  },
  "language_info": {
   "codemirror_mode": {
    "name": "ipython",
    "version": 3
   },
   "file_extension": ".py",
   "mimetype": "text/x-python",
   "name": "python",
   "nbconvert_exporter": "python",
   "pygments_lexer": "ipython3",
   "version": "3.9.19"
  },
  "toc": {
   "base_numbering": 1,
   "nav_menu": {},
   "number_sections": true,
   "sideBar": true,
   "skip_h1_title": true,
   "title_cell": "Table of Contents",
   "title_sidebar": "Contents",
   "toc_cell": false,
   "toc_position": {},
   "toc_section_display": true,
   "toc_window_display": false
  }
 },
 "nbformat": 4,
 "nbformat_minor": 2
}
